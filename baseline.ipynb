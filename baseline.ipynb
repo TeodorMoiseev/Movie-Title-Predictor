{
 "cells": [
  {
   "cell_type": "code",
   "execution_count": 5,
   "metadata": {},
   "outputs": [],
   "source": [
    "from __future__ import print_function\n",
    "import numpy as np\n",
    "import pandas as pd\n",
    "import matplotlib as plt\n",
    "import sklearn\n",
    "import gensim\n",
    "%matplotlib inline"
   ]
  },
  {
   "cell_type": "code",
   "execution_count": 6,
   "metadata": {},
   "outputs": [
    {
     "data": {
      "text/html": [
       "<div>\n",
       "<style scoped>\n",
       "    .dataframe tbody tr th:only-of-type {\n",
       "        vertical-align: middle;\n",
       "    }\n",
       "\n",
       "    .dataframe tbody tr th {\n",
       "        vertical-align: top;\n",
       "    }\n",
       "\n",
       "    .dataframe thead th {\n",
       "        text-align: right;\n",
       "    }\n",
       "</style>\n",
       "<table border=\"1\" class=\"dataframe\">\n",
       "  <thead>\n",
       "    <tr style=\"text-align: right;\">\n",
       "      <th></th>\n",
       "      <th>adult</th>\n",
       "      <th>belongs_to_collection</th>\n",
       "      <th>budget</th>\n",
       "      <th>genres</th>\n",
       "      <th>homepage</th>\n",
       "      <th>id</th>\n",
       "      <th>imdb_id</th>\n",
       "      <th>original_language</th>\n",
       "      <th>original_title</th>\n",
       "      <th>overview</th>\n",
       "      <th>...</th>\n",
       "      <th>release_date</th>\n",
       "      <th>revenue</th>\n",
       "      <th>runtime</th>\n",
       "      <th>spoken_languages</th>\n",
       "      <th>status</th>\n",
       "      <th>tagline</th>\n",
       "      <th>title</th>\n",
       "      <th>video</th>\n",
       "      <th>vote_average</th>\n",
       "      <th>vote_count</th>\n",
       "    </tr>\n",
       "  </thead>\n",
       "  <tbody>\n",
       "    <tr>\n",
       "      <th>0</th>\n",
       "      <td>False</td>\n",
       "      <td>{'id': 10194, 'name': 'Toy Story Collection', ...</td>\n",
       "      <td>30000000</td>\n",
       "      <td>[{'id': 16, 'name': 'Animation'}, {'id': 35, '...</td>\n",
       "      <td>http://toystory.disney.com/toy-story</td>\n",
       "      <td>862</td>\n",
       "      <td>tt0114709</td>\n",
       "      <td>en</td>\n",
       "      <td>Toy Story</td>\n",
       "      <td>Led by Woody, Andy's toys live happily in his ...</td>\n",
       "      <td>...</td>\n",
       "      <td>1995-10-30</td>\n",
       "      <td>373554033.0</td>\n",
       "      <td>81.0</td>\n",
       "      <td>[{'iso_639_1': 'en', 'name': 'English'}]</td>\n",
       "      <td>Released</td>\n",
       "      <td>NaN</td>\n",
       "      <td>Toy Story</td>\n",
       "      <td>False</td>\n",
       "      <td>7.7</td>\n",
       "      <td>5415.0</td>\n",
       "    </tr>\n",
       "    <tr>\n",
       "      <th>1</th>\n",
       "      <td>False</td>\n",
       "      <td>NaN</td>\n",
       "      <td>65000000</td>\n",
       "      <td>[{'id': 12, 'name': 'Adventure'}, {'id': 14, '...</td>\n",
       "      <td>NaN</td>\n",
       "      <td>8844</td>\n",
       "      <td>tt0113497</td>\n",
       "      <td>en</td>\n",
       "      <td>Jumanji</td>\n",
       "      <td>When siblings Judy and Peter discover an encha...</td>\n",
       "      <td>...</td>\n",
       "      <td>1995-12-15</td>\n",
       "      <td>262797249.0</td>\n",
       "      <td>104.0</td>\n",
       "      <td>[{'iso_639_1': 'en', 'name': 'English'}, {'iso...</td>\n",
       "      <td>Released</td>\n",
       "      <td>Roll the dice and unleash the excitement!</td>\n",
       "      <td>Jumanji</td>\n",
       "      <td>False</td>\n",
       "      <td>6.9</td>\n",
       "      <td>2413.0</td>\n",
       "    </tr>\n",
       "    <tr>\n",
       "      <th>2</th>\n",
       "      <td>False</td>\n",
       "      <td>{'id': 119050, 'name': 'Grumpy Old Men Collect...</td>\n",
       "      <td>0</td>\n",
       "      <td>[{'id': 10749, 'name': 'Romance'}, {'id': 35, ...</td>\n",
       "      <td>NaN</td>\n",
       "      <td>15602</td>\n",
       "      <td>tt0113228</td>\n",
       "      <td>en</td>\n",
       "      <td>Grumpier Old Men</td>\n",
       "      <td>A family wedding reignites the ancient feud be...</td>\n",
       "      <td>...</td>\n",
       "      <td>1995-12-22</td>\n",
       "      <td>0.0</td>\n",
       "      <td>101.0</td>\n",
       "      <td>[{'iso_639_1': 'en', 'name': 'English'}]</td>\n",
       "      <td>Released</td>\n",
       "      <td>Still Yelling. Still Fighting. Still Ready for...</td>\n",
       "      <td>Grumpier Old Men</td>\n",
       "      <td>False</td>\n",
       "      <td>6.5</td>\n",
       "      <td>92.0</td>\n",
       "    </tr>\n",
       "    <tr>\n",
       "      <th>3</th>\n",
       "      <td>False</td>\n",
       "      <td>NaN</td>\n",
       "      <td>16000000</td>\n",
       "      <td>[{'id': 35, 'name': 'Comedy'}, {'id': 18, 'nam...</td>\n",
       "      <td>NaN</td>\n",
       "      <td>31357</td>\n",
       "      <td>tt0114885</td>\n",
       "      <td>en</td>\n",
       "      <td>Waiting to Exhale</td>\n",
       "      <td>Cheated on, mistreated and stepped on, the wom...</td>\n",
       "      <td>...</td>\n",
       "      <td>1995-12-22</td>\n",
       "      <td>81452156.0</td>\n",
       "      <td>127.0</td>\n",
       "      <td>[{'iso_639_1': 'en', 'name': 'English'}]</td>\n",
       "      <td>Released</td>\n",
       "      <td>Friends are the people who let you be yourself...</td>\n",
       "      <td>Waiting to Exhale</td>\n",
       "      <td>False</td>\n",
       "      <td>6.1</td>\n",
       "      <td>34.0</td>\n",
       "    </tr>\n",
       "    <tr>\n",
       "      <th>4</th>\n",
       "      <td>False</td>\n",
       "      <td>{'id': 96871, 'name': 'Father of the Bride Col...</td>\n",
       "      <td>0</td>\n",
       "      <td>[{'id': 35, 'name': 'Comedy'}]</td>\n",
       "      <td>NaN</td>\n",
       "      <td>11862</td>\n",
       "      <td>tt0113041</td>\n",
       "      <td>en</td>\n",
       "      <td>Father of the Bride Part II</td>\n",
       "      <td>Just when George Banks has recovered from his ...</td>\n",
       "      <td>...</td>\n",
       "      <td>1995-02-10</td>\n",
       "      <td>76578911.0</td>\n",
       "      <td>106.0</td>\n",
       "      <td>[{'iso_639_1': 'en', 'name': 'English'}]</td>\n",
       "      <td>Released</td>\n",
       "      <td>Just When His World Is Back To Normal... He's ...</td>\n",
       "      <td>Father of the Bride Part II</td>\n",
       "      <td>False</td>\n",
       "      <td>5.7</td>\n",
       "      <td>173.0</td>\n",
       "    </tr>\n",
       "  </tbody>\n",
       "</table>\n",
       "<p>5 rows × 24 columns</p>\n",
       "</div>"
      ],
      "text/plain": [
       "   adult                              belongs_to_collection    budget  \\\n",
       "0  False  {'id': 10194, 'name': 'Toy Story Collection', ...  30000000   \n",
       "1  False                                                NaN  65000000   \n",
       "2  False  {'id': 119050, 'name': 'Grumpy Old Men Collect...         0   \n",
       "3  False                                                NaN  16000000   \n",
       "4  False  {'id': 96871, 'name': 'Father of the Bride Col...         0   \n",
       "\n",
       "                                              genres  \\\n",
       "0  [{'id': 16, 'name': 'Animation'}, {'id': 35, '...   \n",
       "1  [{'id': 12, 'name': 'Adventure'}, {'id': 14, '...   \n",
       "2  [{'id': 10749, 'name': 'Romance'}, {'id': 35, ...   \n",
       "3  [{'id': 35, 'name': 'Comedy'}, {'id': 18, 'nam...   \n",
       "4                     [{'id': 35, 'name': 'Comedy'}]   \n",
       "\n",
       "                               homepage     id    imdb_id original_language  \\\n",
       "0  http://toystory.disney.com/toy-story    862  tt0114709                en   \n",
       "1                                   NaN   8844  tt0113497                en   \n",
       "2                                   NaN  15602  tt0113228                en   \n",
       "3                                   NaN  31357  tt0114885                en   \n",
       "4                                   NaN  11862  tt0113041                en   \n",
       "\n",
       "                original_title  \\\n",
       "0                    Toy Story   \n",
       "1                      Jumanji   \n",
       "2             Grumpier Old Men   \n",
       "3            Waiting to Exhale   \n",
       "4  Father of the Bride Part II   \n",
       "\n",
       "                                            overview    ...     release_date  \\\n",
       "0  Led by Woody, Andy's toys live happily in his ...    ...       1995-10-30   \n",
       "1  When siblings Judy and Peter discover an encha...    ...       1995-12-15   \n",
       "2  A family wedding reignites the ancient feud be...    ...       1995-12-22   \n",
       "3  Cheated on, mistreated and stepped on, the wom...    ...       1995-12-22   \n",
       "4  Just when George Banks has recovered from his ...    ...       1995-02-10   \n",
       "\n",
       "       revenue runtime                                   spoken_languages  \\\n",
       "0  373554033.0    81.0           [{'iso_639_1': 'en', 'name': 'English'}]   \n",
       "1  262797249.0   104.0  [{'iso_639_1': 'en', 'name': 'English'}, {'iso...   \n",
       "2          0.0   101.0           [{'iso_639_1': 'en', 'name': 'English'}]   \n",
       "3   81452156.0   127.0           [{'iso_639_1': 'en', 'name': 'English'}]   \n",
       "4   76578911.0   106.0           [{'iso_639_1': 'en', 'name': 'English'}]   \n",
       "\n",
       "     status                                            tagline  \\\n",
       "0  Released                                                NaN   \n",
       "1  Released          Roll the dice and unleash the excitement!   \n",
       "2  Released  Still Yelling. Still Fighting. Still Ready for...   \n",
       "3  Released  Friends are the people who let you be yourself...   \n",
       "4  Released  Just When His World Is Back To Normal... He's ...   \n",
       "\n",
       "                         title  video vote_average vote_count  \n",
       "0                    Toy Story  False          7.7     5415.0  \n",
       "1                      Jumanji  False          6.9     2413.0  \n",
       "2             Grumpier Old Men  False          6.5       92.0  \n",
       "3            Waiting to Exhale  False          6.1       34.0  \n",
       "4  Father of the Bride Part II  False          5.7      173.0  \n",
       "\n",
       "[5 rows x 24 columns]"
      ]
     },
     "execution_count": 6,
     "metadata": {},
     "output_type": "execute_result"
    }
   ],
   "source": [
    "data = pd.read_csv('data/movies_metadata.csv', low_memory=False)\n",
    "data.head()"
   ]
  },
  {
   "cell_type": "code",
   "execution_count": 7,
   "metadata": {},
   "outputs": [
    {
     "name": "stdout",
     "output_type": "stream",
     "text": [
      "Initial number of movies:  45466\n",
      "Number of movies in English:  32269\n",
      "Number of films in English with title annd overview:  32198\n"
     ]
    }
   ],
   "source": [
    "print('Initial number of movies: ', len(data))\n",
    "data = data[data['original_language'] == 'en']\n",
    "print('Number of movies in English: ', len(data))\n",
    "data = data[['title', 'overview']].dropna()\n",
    "print('Number of films in English with title annd overview: ', len(data))"
   ]
  },
  {
   "cell_type": "code",
   "execution_count": 8,
   "metadata": {},
   "outputs": [
    {
     "data": {
      "text/html": [
       "<div>\n",
       "<style scoped>\n",
       "    .dataframe tbody tr th:only-of-type {\n",
       "        vertical-align: middle;\n",
       "    }\n",
       "\n",
       "    .dataframe tbody tr th {\n",
       "        vertical-align: top;\n",
       "    }\n",
       "\n",
       "    .dataframe thead th {\n",
       "        text-align: right;\n",
       "    }\n",
       "</style>\n",
       "<table border=\"1\" class=\"dataframe\">\n",
       "  <thead>\n",
       "    <tr style=\"text-align: right;\">\n",
       "      <th></th>\n",
       "      <th>title</th>\n",
       "      <th>overview</th>\n",
       "    </tr>\n",
       "  </thead>\n",
       "  <tbody>\n",
       "    <tr>\n",
       "      <th>0</th>\n",
       "      <td>Toy Story</td>\n",
       "      <td>Led by Woody, Andy's toys live happily in his ...</td>\n",
       "    </tr>\n",
       "    <tr>\n",
       "      <th>1</th>\n",
       "      <td>Jumanji</td>\n",
       "      <td>When siblings Judy and Peter discover an encha...</td>\n",
       "    </tr>\n",
       "    <tr>\n",
       "      <th>2</th>\n",
       "      <td>Grumpier Old Men</td>\n",
       "      <td>A family wedding reignites the ancient feud be...</td>\n",
       "    </tr>\n",
       "    <tr>\n",
       "      <th>3</th>\n",
       "      <td>Waiting to Exhale</td>\n",
       "      <td>Cheated on, mistreated and stepped on, the wom...</td>\n",
       "    </tr>\n",
       "    <tr>\n",
       "      <th>4</th>\n",
       "      <td>Father of the Bride Part II</td>\n",
       "      <td>Just when George Banks has recovered from his ...</td>\n",
       "    </tr>\n",
       "  </tbody>\n",
       "</table>\n",
       "</div>"
      ],
      "text/plain": [
       "                         title  \\\n",
       "0                    Toy Story   \n",
       "1                      Jumanji   \n",
       "2             Grumpier Old Men   \n",
       "3            Waiting to Exhale   \n",
       "4  Father of the Bride Part II   \n",
       "\n",
       "                                            overview  \n",
       "0  Led by Woody, Andy's toys live happily in his ...  \n",
       "1  When siblings Judy and Peter discover an encha...  \n",
       "2  A family wedding reignites the ancient feud be...  \n",
       "3  Cheated on, mistreated and stepped on, the wom...  \n",
       "4  Just when George Banks has recovered from his ...  "
      ]
     },
     "execution_count": 8,
     "metadata": {},
     "output_type": "execute_result"
    }
   ],
   "source": [
    "data.head()"
   ]
  },
  {
   "cell_type": "code",
   "execution_count": 9,
   "metadata": {},
   "outputs": [
    {
     "name": "stdout",
     "output_type": "stream",
     "text": [
      "CPU times: user 3min 14s, sys: 7.63 s, total: 3min 21s\n",
      "Wall time: 3min 37s\n"
     ]
    }
   ],
   "source": [
    "from gensim.models.fasttext import FastText\n",
    "\n",
    "%time ft_model = FastText.load_fasttext_format('../fastText/models/wiki.en/wiki.en.bin')"
   ]
  },
  {
   "cell_type": "code",
   "execution_count": 10,
   "metadata": {},
   "outputs": [
    {
     "name": "stdout",
     "output_type": "stream",
     "text": [
      "Class for training, using and evaluating word representations learned using method\n",
      "    described in [1]_ aka Fasttext.\n",
      "\n",
      "    The model can be stored/loaded via its :meth:`~gensim.models.fasttext.FastText.save()` and\n",
      "    :meth:`~gensim.models.fasttext.FastText.load()` methods, or loaded in a format compatible with the original\n",
      "    fasttext implementation via :meth:`~gensim.models.fasttext.FastText.load_fasttext_format()`.\n",
      "\n",
      "    \n"
     ]
    }
   ],
   "source": [
    "print(ft_model.__doc__)"
   ]
  },
  {
   "cell_type": "markdown",
   "metadata": {},
   "source": [
    "### Пример embedding'ов"
   ]
  },
  {
   "cell_type": "code",
   "execution_count": 11,
   "metadata": {},
   "outputs": [
    {
     "name": "stdout",
     "output_type": "stream",
     "text": [
      "Number of Tokens: 2519370\n",
      "Dimension of a word vector: 300\n",
      "\n",
      "Word: cars, Similarity: 0.83\n",
      "Word: automobile, Similarity: 0.72\n",
      "Word: truck, Similarity: 0.71\n",
      "Word: motorcar, Similarity: 0.70\n",
      "Word: vehicle, Similarity: 0.70\n",
      "Word: driver, Similarity: 0.69\n",
      "Word: drivecar, Similarity: 0.69\n",
      "Word: minivan, Similarity: 0.67\n",
      "Word: roadster, Similarity: 0.67\n",
      "Word: racecars, Similarity: 0.67\n"
     ]
    }
   ],
   "source": [
    "# Getting the tokens \n",
    "model_words = []\n",
    "for word in ft_model.wv.vocab:\n",
    "    model_words.append(word)\n",
    "\n",
    "\n",
    "# Printing out number of tokens available\n",
    "print(\"Number of Tokens: {}\".format(len(model_words)))\n",
    "\n",
    "# Printing out the dimension of a word vector \n",
    "print(\"Dimension of a word vector: {}\\n\".format(\n",
    "    len(ft_model.wv['car'])\n",
    "))\n",
    "\n",
    "\n",
    "# Pick a word \n",
    "find_similar_to = 'car'\n",
    "\n",
    "# Finding out similar words [default= top 10]\n",
    "for similar_word in ft_model.wv.similar_by_word(find_similar_to):\n",
    "    print(\"Word: {0}, Similarity: {1:.2f}\".format(\n",
    "        similar_word[0], similar_word[1]\n",
    "    ))"
   ]
  },
  {
   "cell_type": "markdown",
   "metadata": {},
   "source": [
    "### Baseline 1"
   ]
  },
  {
   "cell_type": "markdown",
   "metadata": {},
   "source": [
    "Предсказание - самый близкий вектор в пространстве эмбеддингов для средней суммы слов из описания без stopwords."
   ]
  },
  {
   "cell_type": "code",
   "execution_count": 12,
   "metadata": {},
   "outputs": [
    {
     "name": "stdout",
     "output_type": "stream",
     "text": [
      "[nltk_data] Downloading package stopwords to\n",
      "[nltk_data]     /home/femoiseev/nltk_data...\n",
      "[nltk_data]   Package stopwords is already up-to-date!\n",
      "[nltk_data] Downloading package words to /home/femoiseev/nltk_data...\n",
      "[nltk_data]   Package words is already up-to-date!\n"
     ]
    }
   ],
   "source": [
    "from nltk.corpus import stopwords\n",
    "from nltk.corpus import words\n",
    "import nltk\n",
    "\n",
    "nltk.download('stopwords')\n",
    "nltk.download('words')\n",
    "\n",
    "en_stopwords = set(stopwords.words('english'))\n",
    "en_words = set(word.lower() for word in words.words())"
   ]
  },
  {
   "cell_type": "code",
   "execution_count": 20,
   "metadata": {},
   "outputs": [
    {
     "name": "stdout",
     "output_type": "stream",
     "text": [
      "[nltk_data] Downloading package punkt to /home/femoiseev/nltk_data...\n",
      "[nltk_data]   Package punkt is already up-to-date!\n"
     ]
    }
   ],
   "source": [
    "import string\n",
    "import nltk\n",
    "from scipy import spatial\n",
    "\n",
    "nltk.download('punkt')\n",
    "\n",
    "def get_mean_embeds(text, words, model=ft_model, stopwords=[]):\n",
    "    embeds = []\n",
    "    for word in nltk.word_tokenize(text):\n",
    "        word = word.lower()\n",
    "        if word not in stopwords and word in words:\n",
    "            try:\n",
    "                embed = model.wv[word]\n",
    "                embeds.append(embed)\n",
    "            except:\n",
    "                pass\n",
    "    if len(embeds) == 0:\n",
    "        embeds.append(np.zeros_like(model.wv['and']) + 0.1)\n",
    "    return np.mean(embeds, axis=0)\n",
    "\n",
    "def metric(title, pred, words, model=ft_model, stopwords=[]):\n",
    "    if type(title) == str:\n",
    "        title_embed = get_mean_embeds(title, words=words, model=model, stopwords=stopwords)\n",
    "        pred_embed = get_mean_embeds(pred, words=words, model=model, stopwords=stopwords)\n",
    "        return spatial.distance.cosine(title_embed, pred_embed)\n",
    "    else:\n",
    "        return np.mean([metric(x, y, words, model, stopwords) for x, y in zip(title, pred)])"
   ]
  },
  {
   "cell_type": "code",
   "execution_count": 76,
   "metadata": {},
   "outputs": [],
   "source": [
    "from sklearn.model_selection import train_test_split\n",
    "\n",
    "train, test = train_test_split(data, test_size=0.2, random_state=42)"
   ]
  },
  {
   "cell_type": "code",
   "execution_count": 77,
   "metadata": {},
   "outputs": [],
   "source": [
    "X_train, X_test, y_train, y_test = train['overview'].values, test['overview'].values, train['title'].values, test['title'].values"
   ]
  },
  {
   "cell_type": "code",
   "execution_count": 23,
   "metadata": {},
   "outputs": [],
   "source": [
    "def predict(text, words=en_words, model=ft_model, stopwords=[]):\n",
    "    if type(text) == str:\n",
    "        embed = get_mean_embeds(text, words, model=model, stopwords=stopwords)\n",
    "        for pair in model.wv.similar_by_vector(embed, topn=100, restrict_vocab=50000):\n",
    "            word = pair[0]\n",
    "            if len(word) > 5:\n",
    "                return word\n",
    "        return None\n",
    "    else:\n",
    "        return [predict(x, words, model, stopwords) for x in text]"
   ]
  },
  {
   "cell_type": "code",
   "execution_count": 24,
   "metadata": {},
   "outputs": [
    {
     "name": "stdout",
     "output_type": "stream",
     "text": [
      "chases\n"
     ]
    }
   ],
   "source": [
    "print(predict(X_test[5], words=en_words, stopwords=en_stopwords))"
   ]
  },
  {
   "cell_type": "code",
   "execution_count": 81,
   "metadata": {},
   "outputs": [
    {
     "name": "stdout",
     "output_type": "stream",
     "text": [
      "CPU times: user 1min 7s, sys: 253 ms, total: 1min 7s\n",
      "Wall time: 17 s\n"
     ]
    }
   ],
   "source": [
    "%time preds = predict(X_test, stopwords=en_stopwords)"
   ]
  },
  {
   "cell_type": "code",
   "execution_count": null,
   "metadata": {},
   "outputs": [],
   "source": []
  },
  {
   "cell_type": "code",
   "execution_count": 82,
   "metadata": {},
   "outputs": [
    {
     "data": {
      "text/plain": [
       "0.7422436773219335"
      ]
     },
     "execution_count": 82,
     "metadata": {},
     "output_type": "execute_result"
    }
   ],
   "source": [
    "metric(y_test, preds, words=en_words, stopwords=en_stopwords)"
   ]
  },
  {
   "cell_type": "code",
   "execution_count": 83,
   "metadata": {},
   "outputs": [
    {
     "name": "stdout",
     "output_type": "stream",
     "text": [
      "Examples of work:\n",
      "\n",
      "Overview:\n",
      "There's little wonder in the working-class lives of Bill, Eileen, and their three grown daughters. They're lonely Londoners. Nadia, a cafe waitress, places personal ads, looking for love; Debbie, a single mom, entertains men at the hair salon after hours; her son spends part of the weekend with her ex, a man with a hair-trigger temper. Molly is expecting her first baby and its father acts as if the responsibility is too much for him.\n",
      "\n",
      "True title: Wonderland\n",
      "\n",
      "Predicted title: girlfriend\n",
      "\n",
      "Overview:\n",
      "It happened in 1983. It was a rare and remarkable theatrical experience. Controversial. Provocative. And shocking. Now, two Academy Award-winning actresses make the Pulitzer Prize-winning play the motion picture event of the year. What would you do if someone you loved sat down with you one night and calmly told you that they were going to end their life before morning?\n",
      "\n",
      "True title: 'night, Mother\n",
      "\n",
      "Predicted title: shocking\n",
      "\n",
      "Overview:\n",
      "After his best friend dies in an unexpected accident, black market dealer Young-gyu decides to wash his hands off his illegal activities and start a new life with his girlfriend Yu-ri. But his dream stalls when he learns that Yu-ri needs money for her father's surgery. To help her out, Young-gyu decides to do the job one last time. His smuggling ring operates out of a boat that runs between Korea and China, picking victims from its voyager pool and harvesting their organs. Meanwhile, a married couple, Sang-ho and Chae-hee, boards Young-gyu's passenger boat heading to Weihai, China. That very evening, just when the boat enters international sea waters where countries' laws cannot be enforced, Chae-hee goes missing and all her pictures and belongings vanishes without a trace. Young-gyu finds Yu-ri on the same ship, and she claims to be the only witness to Chae-hee's disappearance.\n",
      "\n",
      "True title: The Traffickers\n",
      "\n",
      "Predicted title: mysteriously\n",
      "\n",
      "Overview:\n",
      "It is the mid-1930s and the storm clouds of WWII were forming in Germany. This films charts the work of Robert Watson Watt - the pioneer of Radar - and his hand-picked team of eccentric yet brilliant meteorologists as they struggle to turn the concept of Radar into a workable reality. Hamstrung by a tiny budget, seemingly insurmountable technical problems and even a spy in the camp, Watson Watt also has to deal with marital problems as he chases his dream. By 1939, Watson Watt and his team have developed the world's first Radar system along the south east coast of England. A system that, in 1940, proved pivotal in winning the Battle of Britain.\n",
      "\n",
      "True title: Castles in the Sky\n",
      "\n",
      "Predicted title: ironically\n",
      "\n",
      "Overview:\n",
      "Precisely edited to the start-stop rhythm of a martial beat and post-punk rock music, Absolutions glories in organized disjunction, juxtaposing images of the artist collapsing to the ground with bursts of wildly scrambled electronic distortion.\n",
      "\n",
      "True title: (Absolutions) Pipilotti's Mistakes\n",
      "\n",
      "Predicted title: electronica\n",
      "\n",
      "Overview:\n",
      "A combination of the story of Goldlocks and the Three Bears with the true story of how Teddy Roosevelt spared a bear cub after killing its mother while hunting, an event which led to the popularization of the teddy bear. Goldilocks goes to sleep in the bears' home after watching six teddy bears dance and do acrobatics, viewing them through a knothole in the wall. When she is awoken by the returning bear family, they give chase through the woods, but she runs to the aid of the Old Rough Rider, who saves her.\n",
      "\n",
      "True title: The 'Teddy' Bears\n",
      "\n",
      "Predicted title: chases\n",
      "\n",
      "Overview:\n",
      "\"Cavemen\" is a comedic film with a slight edge of drama revolving around the lives of somewhat single, somewhat unemployed guys living in a warehouse converted to living quarters in the 'Arts District' of Downtown Los Angeles, California they are toiling adulthood and realities of love.\n",
      "\n",
      "True title: Cavemen\n",
      "\n",
      "Predicted title: barthélemy\n",
      "\n",
      "Overview:\n",
      "Buster clowns around in a blacksmith's shop until he and the smithy get in a fight which sends the smithy to jail. Buster helps several customers with horses, then destroys a Rolls Royce while fixing the car parked next to it.\n",
      "\n",
      "True title: The Blacksmith\n",
      "\n",
      "Predicted title: blacksmith\n",
      "\n",
      "Overview:\n",
      "A troubled man runs away to Mexico and is recruited to join a paramilitary group of teens fighting the drug cartels. He proves himself to the group, but questions their motive.\n",
      "\n",
      "True title: Mercury Plains\n",
      "\n",
      "Predicted title: paramilitary\n",
      "\n",
      "Overview:\n",
      "A fictionalized account of the last days of Edgar Allan Poe's life, in which the poet is in pursuit of a serial killer whose murders mirror those in the writer's stories.\n",
      "\n",
      "True title: The Raven\n",
      "\n",
      "Predicted title: writer\n",
      "\n"
     ]
    }
   ],
   "source": [
    "print('Examples of work:')\n",
    "print()\n",
    "\n",
    "for x, y, z in list(zip(X_test, y_test, preds))[:10]:\n",
    "    print('Overview:')\n",
    "    print(x)\n",
    "    print()\n",
    "    print('True title: {}'.format(y))\n",
    "    print()\n",
    "    print('Predicted title: {}'.format(z))\n",
    "    print()"
   ]
  },
  {
   "cell_type": "markdown",
   "metadata": {},
   "source": [
    "### Baseline 2"
   ]
  },
  {
   "cell_type": "code",
   "execution_count": 96,
   "metadata": {},
   "outputs": [],
   "source": [
    "X_test_upd = [[z for z in x.split() if z in en_words and z not in en_stopwords] for x in X_test]"
   ]
  },
  {
   "cell_type": "code",
   "execution_count": 97,
   "metadata": {},
   "outputs": [],
   "source": [
    "from collections import Counter\n",
    "\n",
    "def dummy_predict(text):\n",
    "    cnt = Counter(text)\n",
    "    try:\n",
    "        return cnt.most_common(1)[0][0]\n",
    "    except:\n",
    "        return '<unk>'"
   ]
  },
  {
   "cell_type": "code",
   "execution_count": 98,
   "metadata": {},
   "outputs": [
    {
     "data": {
      "text/plain": [
       "'little'"
      ]
     },
     "execution_count": 98,
     "metadata": {},
     "output_type": "execute_result"
    }
   ],
   "source": [
    "dummy_predict(X_test_upd[0])"
   ]
  },
  {
   "cell_type": "code",
   "execution_count": 99,
   "metadata": {},
   "outputs": [],
   "source": [
    "dummy_preds = [dummy_predict(x) for x in X_test_upd]"
   ]
  },
  {
   "cell_type": "code",
   "execution_count": 100,
   "metadata": {},
   "outputs": [
    {
     "data": {
      "text/plain": [
       "0.7663872657898056"
      ]
     },
     "execution_count": 100,
     "metadata": {},
     "output_type": "execute_result"
    }
   ],
   "source": [
    "metric(y_test, dummy_preds, words=en_words, stopwords=en_stopwords)"
   ]
  },
  {
   "cell_type": "code",
   "execution_count": null,
   "metadata": {},
   "outputs": [],
   "source": []
  }
 ],
 "metadata": {
  "kernelspec": {
   "display_name": "Python 3",
   "language": "python",
   "name": "python3"
  },
  "language_info": {
   "codemirror_mode": {
    "name": "ipython",
    "version": 3
   },
   "file_extension": ".py",
   "mimetype": "text/x-python",
   "name": "python",
   "nbconvert_exporter": "python",
   "pygments_lexer": "ipython3",
   "version": "3.6.4"
  }
 },
 "nbformat": 4,
 "nbformat_minor": 2
}
