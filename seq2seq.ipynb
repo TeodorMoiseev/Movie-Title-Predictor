{
 "cells": [
  {
   "cell_type": "code",
   "execution_count": 1,
   "metadata": {},
   "outputs": [],
   "source": [
    "from __future__ import print_function\n",
    "import numpy as np\n",
    "import pandas as pd\n",
    "import matplotlib as plt\n",
    "import sklearn\n",
    "import gensim\n",
    "import nltk\n",
    "%matplotlib inline"
   ]
  },
  {
   "cell_type": "code",
   "execution_count": 2,
   "metadata": {},
   "outputs": [
    {
     "data": {
      "text/html": [
       "<div>\n",
       "<style scoped>\n",
       "    .dataframe tbody tr th:only-of-type {\n",
       "        vertical-align: middle;\n",
       "    }\n",
       "\n",
       "    .dataframe tbody tr th {\n",
       "        vertical-align: top;\n",
       "    }\n",
       "\n",
       "    .dataframe thead th {\n",
       "        text-align: right;\n",
       "    }\n",
       "</style>\n",
       "<table border=\"1\" class=\"dataframe\">\n",
       "  <thead>\n",
       "    <tr style=\"text-align: right;\">\n",
       "      <th></th>\n",
       "      <th>adult</th>\n",
       "      <th>belongs_to_collection</th>\n",
       "      <th>budget</th>\n",
       "      <th>genres</th>\n",
       "      <th>homepage</th>\n",
       "      <th>id</th>\n",
       "      <th>imdb_id</th>\n",
       "      <th>original_language</th>\n",
       "      <th>original_title</th>\n",
       "      <th>overview</th>\n",
       "      <th>...</th>\n",
       "      <th>release_date</th>\n",
       "      <th>revenue</th>\n",
       "      <th>runtime</th>\n",
       "      <th>spoken_languages</th>\n",
       "      <th>status</th>\n",
       "      <th>tagline</th>\n",
       "      <th>title</th>\n",
       "      <th>video</th>\n",
       "      <th>vote_average</th>\n",
       "      <th>vote_count</th>\n",
       "    </tr>\n",
       "  </thead>\n",
       "  <tbody>\n",
       "    <tr>\n",
       "      <th>0</th>\n",
       "      <td>False</td>\n",
       "      <td>{'id': 10194, 'name': 'Toy Story Collection', ...</td>\n",
       "      <td>30000000</td>\n",
       "      <td>[{'id': 16, 'name': 'Animation'}, {'id': 35, '...</td>\n",
       "      <td>http://toystory.disney.com/toy-story</td>\n",
       "      <td>862</td>\n",
       "      <td>tt0114709</td>\n",
       "      <td>en</td>\n",
       "      <td>Toy Story</td>\n",
       "      <td>Led by Woody, Andy's toys live happily in his ...</td>\n",
       "      <td>...</td>\n",
       "      <td>1995-10-30</td>\n",
       "      <td>373554033.0</td>\n",
       "      <td>81.0</td>\n",
       "      <td>[{'iso_639_1': 'en', 'name': 'English'}]</td>\n",
       "      <td>Released</td>\n",
       "      <td>NaN</td>\n",
       "      <td>Toy Story</td>\n",
       "      <td>False</td>\n",
       "      <td>7.7</td>\n",
       "      <td>5415.0</td>\n",
       "    </tr>\n",
       "    <tr>\n",
       "      <th>1</th>\n",
       "      <td>False</td>\n",
       "      <td>NaN</td>\n",
       "      <td>65000000</td>\n",
       "      <td>[{'id': 12, 'name': 'Adventure'}, {'id': 14, '...</td>\n",
       "      <td>NaN</td>\n",
       "      <td>8844</td>\n",
       "      <td>tt0113497</td>\n",
       "      <td>en</td>\n",
       "      <td>Jumanji</td>\n",
       "      <td>When siblings Judy and Peter discover an encha...</td>\n",
       "      <td>...</td>\n",
       "      <td>1995-12-15</td>\n",
       "      <td>262797249.0</td>\n",
       "      <td>104.0</td>\n",
       "      <td>[{'iso_639_1': 'en', 'name': 'English'}, {'iso...</td>\n",
       "      <td>Released</td>\n",
       "      <td>Roll the dice and unleash the excitement!</td>\n",
       "      <td>Jumanji</td>\n",
       "      <td>False</td>\n",
       "      <td>6.9</td>\n",
       "      <td>2413.0</td>\n",
       "    </tr>\n",
       "    <tr>\n",
       "      <th>2</th>\n",
       "      <td>False</td>\n",
       "      <td>{'id': 119050, 'name': 'Grumpy Old Men Collect...</td>\n",
       "      <td>0</td>\n",
       "      <td>[{'id': 10749, 'name': 'Romance'}, {'id': 35, ...</td>\n",
       "      <td>NaN</td>\n",
       "      <td>15602</td>\n",
       "      <td>tt0113228</td>\n",
       "      <td>en</td>\n",
       "      <td>Grumpier Old Men</td>\n",
       "      <td>A family wedding reignites the ancient feud be...</td>\n",
       "      <td>...</td>\n",
       "      <td>1995-12-22</td>\n",
       "      <td>0.0</td>\n",
       "      <td>101.0</td>\n",
       "      <td>[{'iso_639_1': 'en', 'name': 'English'}]</td>\n",
       "      <td>Released</td>\n",
       "      <td>Still Yelling. Still Fighting. Still Ready for...</td>\n",
       "      <td>Grumpier Old Men</td>\n",
       "      <td>False</td>\n",
       "      <td>6.5</td>\n",
       "      <td>92.0</td>\n",
       "    </tr>\n",
       "    <tr>\n",
       "      <th>3</th>\n",
       "      <td>False</td>\n",
       "      <td>NaN</td>\n",
       "      <td>16000000</td>\n",
       "      <td>[{'id': 35, 'name': 'Comedy'}, {'id': 18, 'nam...</td>\n",
       "      <td>NaN</td>\n",
       "      <td>31357</td>\n",
       "      <td>tt0114885</td>\n",
       "      <td>en</td>\n",
       "      <td>Waiting to Exhale</td>\n",
       "      <td>Cheated on, mistreated and stepped on, the wom...</td>\n",
       "      <td>...</td>\n",
       "      <td>1995-12-22</td>\n",
       "      <td>81452156.0</td>\n",
       "      <td>127.0</td>\n",
       "      <td>[{'iso_639_1': 'en', 'name': 'English'}]</td>\n",
       "      <td>Released</td>\n",
       "      <td>Friends are the people who let you be yourself...</td>\n",
       "      <td>Waiting to Exhale</td>\n",
       "      <td>False</td>\n",
       "      <td>6.1</td>\n",
       "      <td>34.0</td>\n",
       "    </tr>\n",
       "    <tr>\n",
       "      <th>4</th>\n",
       "      <td>False</td>\n",
       "      <td>{'id': 96871, 'name': 'Father of the Bride Col...</td>\n",
       "      <td>0</td>\n",
       "      <td>[{'id': 35, 'name': 'Comedy'}]</td>\n",
       "      <td>NaN</td>\n",
       "      <td>11862</td>\n",
       "      <td>tt0113041</td>\n",
       "      <td>en</td>\n",
       "      <td>Father of the Bride Part II</td>\n",
       "      <td>Just when George Banks has recovered from his ...</td>\n",
       "      <td>...</td>\n",
       "      <td>1995-02-10</td>\n",
       "      <td>76578911.0</td>\n",
       "      <td>106.0</td>\n",
       "      <td>[{'iso_639_1': 'en', 'name': 'English'}]</td>\n",
       "      <td>Released</td>\n",
       "      <td>Just When His World Is Back To Normal... He's ...</td>\n",
       "      <td>Father of the Bride Part II</td>\n",
       "      <td>False</td>\n",
       "      <td>5.7</td>\n",
       "      <td>173.0</td>\n",
       "    </tr>\n",
       "  </tbody>\n",
       "</table>\n",
       "<p>5 rows × 24 columns</p>\n",
       "</div>"
      ],
      "text/plain": [
       "   adult                              belongs_to_collection    budget  \\\n",
       "0  False  {'id': 10194, 'name': 'Toy Story Collection', ...  30000000   \n",
       "1  False                                                NaN  65000000   \n",
       "2  False  {'id': 119050, 'name': 'Grumpy Old Men Collect...         0   \n",
       "3  False                                                NaN  16000000   \n",
       "4  False  {'id': 96871, 'name': 'Father of the Bride Col...         0   \n",
       "\n",
       "                                              genres  \\\n",
       "0  [{'id': 16, 'name': 'Animation'}, {'id': 35, '...   \n",
       "1  [{'id': 12, 'name': 'Adventure'}, {'id': 14, '...   \n",
       "2  [{'id': 10749, 'name': 'Romance'}, {'id': 35, ...   \n",
       "3  [{'id': 35, 'name': 'Comedy'}, {'id': 18, 'nam...   \n",
       "4                     [{'id': 35, 'name': 'Comedy'}]   \n",
       "\n",
       "                               homepage     id    imdb_id original_language  \\\n",
       "0  http://toystory.disney.com/toy-story    862  tt0114709                en   \n",
       "1                                   NaN   8844  tt0113497                en   \n",
       "2                                   NaN  15602  tt0113228                en   \n",
       "3                                   NaN  31357  tt0114885                en   \n",
       "4                                   NaN  11862  tt0113041                en   \n",
       "\n",
       "                original_title  \\\n",
       "0                    Toy Story   \n",
       "1                      Jumanji   \n",
       "2             Grumpier Old Men   \n",
       "3            Waiting to Exhale   \n",
       "4  Father of the Bride Part II   \n",
       "\n",
       "                                            overview    ...     release_date  \\\n",
       "0  Led by Woody, Andy's toys live happily in his ...    ...       1995-10-30   \n",
       "1  When siblings Judy and Peter discover an encha...    ...       1995-12-15   \n",
       "2  A family wedding reignites the ancient feud be...    ...       1995-12-22   \n",
       "3  Cheated on, mistreated and stepped on, the wom...    ...       1995-12-22   \n",
       "4  Just when George Banks has recovered from his ...    ...       1995-02-10   \n",
       "\n",
       "       revenue runtime                                   spoken_languages  \\\n",
       "0  373554033.0    81.0           [{'iso_639_1': 'en', 'name': 'English'}]   \n",
       "1  262797249.0   104.0  [{'iso_639_1': 'en', 'name': 'English'}, {'iso...   \n",
       "2          0.0   101.0           [{'iso_639_1': 'en', 'name': 'English'}]   \n",
       "3   81452156.0   127.0           [{'iso_639_1': 'en', 'name': 'English'}]   \n",
       "4   76578911.0   106.0           [{'iso_639_1': 'en', 'name': 'English'}]   \n",
       "\n",
       "     status                                            tagline  \\\n",
       "0  Released                                                NaN   \n",
       "1  Released          Roll the dice and unleash the excitement!   \n",
       "2  Released  Still Yelling. Still Fighting. Still Ready for...   \n",
       "3  Released  Friends are the people who let you be yourself...   \n",
       "4  Released  Just When His World Is Back To Normal... He's ...   \n",
       "\n",
       "                         title  video vote_average vote_count  \n",
       "0                    Toy Story  False          7.7     5415.0  \n",
       "1                      Jumanji  False          6.9     2413.0  \n",
       "2             Grumpier Old Men  False          6.5       92.0  \n",
       "3            Waiting to Exhale  False          6.1       34.0  \n",
       "4  Father of the Bride Part II  False          5.7      173.0  \n",
       "\n",
       "[5 rows x 24 columns]"
      ]
     },
     "execution_count": 2,
     "metadata": {},
     "output_type": "execute_result"
    }
   ],
   "source": [
    "data = pd.read_csv('data/movies_metadata.csv', low_memory=False)\n",
    "data.head()"
   ]
  },
  {
   "cell_type": "code",
   "execution_count": 3,
   "metadata": {},
   "outputs": [
    {
     "name": "stdout",
     "output_type": "stream",
     "text": [
      "Initial number of movies:  45466\n",
      "Number of movies in English:  32269\n",
      "Number of films in English with title annd overview:  32198\n"
     ]
    }
   ],
   "source": [
    "print('Initial number of movies: ', len(data))\n",
    "data = data[data['original_language'] == 'en']\n",
    "print('Number of movies in English: ', len(data))\n",
    "data = data[['title', 'overview']].dropna()\n",
    "print('Number of films in English with title annd overview: ', len(data))"
   ]
  },
  {
   "cell_type": "code",
   "execution_count": 4,
   "metadata": {},
   "outputs": [
    {
     "data": {
      "text/html": [
       "<div>\n",
       "<style scoped>\n",
       "    .dataframe tbody tr th:only-of-type {\n",
       "        vertical-align: middle;\n",
       "    }\n",
       "\n",
       "    .dataframe tbody tr th {\n",
       "        vertical-align: top;\n",
       "    }\n",
       "\n",
       "    .dataframe thead th {\n",
       "        text-align: right;\n",
       "    }\n",
       "</style>\n",
       "<table border=\"1\" class=\"dataframe\">\n",
       "  <thead>\n",
       "    <tr style=\"text-align: right;\">\n",
       "      <th></th>\n",
       "      <th>title</th>\n",
       "      <th>overview</th>\n",
       "    </tr>\n",
       "  </thead>\n",
       "  <tbody>\n",
       "    <tr>\n",
       "      <th>0</th>\n",
       "      <td>Toy Story</td>\n",
       "      <td>Led by Woody, Andy's toys live happily in his ...</td>\n",
       "    </tr>\n",
       "    <tr>\n",
       "      <th>1</th>\n",
       "      <td>Jumanji</td>\n",
       "      <td>When siblings Judy and Peter discover an encha...</td>\n",
       "    </tr>\n",
       "    <tr>\n",
       "      <th>2</th>\n",
       "      <td>Grumpier Old Men</td>\n",
       "      <td>A family wedding reignites the ancient feud be...</td>\n",
       "    </tr>\n",
       "    <tr>\n",
       "      <th>3</th>\n",
       "      <td>Waiting to Exhale</td>\n",
       "      <td>Cheated on, mistreated and stepped on, the wom...</td>\n",
       "    </tr>\n",
       "    <tr>\n",
       "      <th>4</th>\n",
       "      <td>Father of the Bride Part II</td>\n",
       "      <td>Just when George Banks has recovered from his ...</td>\n",
       "    </tr>\n",
       "  </tbody>\n",
       "</table>\n",
       "</div>"
      ],
      "text/plain": [
       "                         title  \\\n",
       "0                    Toy Story   \n",
       "1                      Jumanji   \n",
       "2             Grumpier Old Men   \n",
       "3            Waiting to Exhale   \n",
       "4  Father of the Bride Part II   \n",
       "\n",
       "                                            overview  \n",
       "0  Led by Woody, Andy's toys live happily in his ...  \n",
       "1  When siblings Judy and Peter discover an encha...  \n",
       "2  A family wedding reignites the ancient feud be...  \n",
       "3  Cheated on, mistreated and stepped on, the wom...  \n",
       "4  Just when George Banks has recovered from his ...  "
      ]
     },
     "execution_count": 4,
     "metadata": {},
     "output_type": "execute_result"
    }
   ],
   "source": [
    "data.head()"
   ]
  },
  {
   "cell_type": "code",
   "execution_count": null,
   "metadata": {},
   "outputs": [],
   "source": [
    "from gensim.models.fasttext import FastText\n",
    "\n",
    "%time ft_model = FastText.load_fasttext_format('../fastText/models/wiki.en/wiki.en.bin')"
   ]
  },
  {
   "cell_type": "code",
   "execution_count": null,
   "metadata": {},
   "outputs": [],
   "source": [
    "print(ft_model.__doc__)"
   ]
  },
  {
   "cell_type": "markdown",
   "metadata": {},
   "source": [
    "### Metric\n",
    "$$quality(truetitle, predtitle) = cosinedistance(truetitle.embeds.mean(), predtitle.embeds.mean())$$"
   ]
  },
  {
   "cell_type": "markdown",
   "metadata": {},
   "source": [
    "### seq2seq"
   ]
  },
  {
   "cell_type": "code",
   "execution_count": 7,
   "metadata": {},
   "outputs": [
    {
     "name": "stdout",
     "output_type": "stream",
     "text": [
      "[nltk_data] Downloading package stopwords to\n",
      "[nltk_data]     /home/femoiseev/nltk_data...\n",
      "[nltk_data]   Package stopwords is already up-to-date!\n",
      "[nltk_data] Downloading package words to /home/femoiseev/nltk_data...\n",
      "[nltk_data]   Package words is already up-to-date!\n"
     ]
    }
   ],
   "source": [
    "from nltk.corpus import stopwords\n",
    "from nltk.corpus import words\n",
    "\n",
    "nltk.download('stopwords')\n",
    "nltk.download('words')\n",
    "\n",
    "en_stopwords = set(stopwords.words('english'))\n",
    "en_words = set(word.lower() for word in words.words())"
   ]
  },
  {
   "cell_type": "code",
   "execution_count": 8,
   "metadata": {},
   "outputs": [
    {
     "name": "stdout",
     "output_type": "stream",
     "text": [
      "[nltk_data] Downloading package punkt to /home/femoiseev/nltk_data...\n",
      "[nltk_data]   Package punkt is already up-to-date!\n"
     ]
    }
   ],
   "source": [
    "import string\n",
    "import nltk\n",
    "from scipy import spatial\n",
    "\n",
    "nltk.download('punkt')\n",
    "\n",
    "def get_mean_embeds(text, words, model=ft_model, stopwords=[]):\n",
    "    embeds = []\n",
    "    for word in nltk.word_tokenize(text):\n",
    "        word = word.lower()\n",
    "        if word not in stopwords and word in words:\n",
    "            try:\n",
    "                embed = model.wv[word]\n",
    "                embeds.append(embed)\n",
    "            except:\n",
    "                pass\n",
    "    return np.mean(embeds, axis=0)\n",
    "\n",
    "def metric(title, pred, words, model=ft_model, stopwords=[]):\n",
    "    if type(title) == str:\n",
    "        title_embed = get_mean_embeds(title, words=words, model=model, stopwords=stopwords)\n",
    "        pred_embed = get_mean_embeds(pred, words=words, model=model, stopwords=stopwords)\n",
    "        return spatial.distance.cosine(title_embed, pred_embed)\n",
    "    else:\n",
    "        return np.mean([metric(x, y, words, model, stopwords) for x, y in zip(title, pred)])"
   ]
  },
  {
   "cell_type": "code",
   "execution_count": 9,
   "metadata": {},
   "outputs": [],
   "source": [
    "from sklearn.model_selection import train_test_split\n",
    "\n",
    "train, test = train_test_split(data, test_size=0.2, random_state=42)"
   ]
  },
  {
   "cell_type": "code",
   "execution_count": 10,
   "metadata": {},
   "outputs": [],
   "source": [
    "X_train, X_test, y_train, y_test = train['overview'].values, test['overview'].values, train['title'].values, test['title'].values"
   ]
  },
  {
   "cell_type": "code",
   "execution_count": 11,
   "metadata": {},
   "outputs": [],
   "source": [
    "def tokenize(text, words=en_words, stopwords=[]):\n",
    "    res = []\n",
    "    for word in nltk.word_tokenize(text):\n",
    "        word = word.lower()\n",
    "        if word not in stopwords and word in words:\n",
    "            res.append(word)\n",
    "    return res"
   ]
  },
  {
   "cell_type": "code",
   "execution_count": 12,
   "metadata": {},
   "outputs": [
    {
     "name": "stdout",
     "output_type": "stream",
     "text": [
      "CPU times: user 7.31 s, sys: 3.15 ms, total: 7.31 s\n",
      "Wall time: 7.33 s\n"
     ]
    },
    {
     "data": {
      "text/plain": [
       "86"
      ]
     },
     "execution_count": 12,
     "metadata": {},
     "output_type": "execute_result"
    }
   ],
   "source": [
    "%time tmp = [len(tokenize(x, words=en_words, stopwords=en_stopwords)) for x in X_train]\n",
    "np.max(tmp)"
   ]
  },
  {
   "cell_type": "code",
   "execution_count": 13,
   "metadata": {},
   "outputs": [
    {
     "data": {
      "text/plain": [
       "'The federal agent Joe Dee Foster is currently investigating a serial killer, helped by doctor Animal who is isolated in a maximum security jail.'"
      ]
     },
     "execution_count": 13,
     "metadata": {},
     "output_type": "execute_result"
    }
   ],
   "source": [
    "X_train[0]"
   ]
  },
  {
   "cell_type": "code",
   "execution_count": 14,
   "metadata": {},
   "outputs": [
    {
     "data": {
      "text/plain": [
       "['federal',\n",
       " 'agent',\n",
       " 'joe',\n",
       " 'dee',\n",
       " 'foster',\n",
       " 'currently',\n",
       " 'investigating',\n",
       " 'serial',\n",
       " 'killer',\n",
       " 'doctor',\n",
       " 'animal',\n",
       " 'isolated',\n",
       " 'maximum',\n",
       " 'security',\n",
       " 'jail']"
      ]
     },
     "execution_count": 14,
     "metadata": {},
     "output_type": "execute_result"
    }
   ],
   "source": [
    "tokenize(X_train[0], stopwords=en_stopwords)"
   ]
  },
  {
   "cell_type": "code",
   "execution_count": 15,
   "metadata": {},
   "outputs": [],
   "source": [
    "def save_dataset(X, Y, path, words=en_words, stopwords=[]):\n",
    "    with open(path, 'w') as fout:\n",
    "        for x, y in zip(X, Y):\n",
    "            x_toks = tokenize(x, words=words, stopwords=stopwords)\n",
    "            y_toks = tokenize(y, words=words, stopwords=stopwords)\n",
    "            fout.write(\"\\t\".join([\" \".join(x_toks), \" \".join(y_toks)]))\n",
    "            fout.write('\\n')"
   ]
  },
  {
   "cell_type": "code",
   "execution_count": 16,
   "metadata": {},
   "outputs": [
    {
     "name": "stdout",
     "output_type": "stream",
     "text": [
      "CPU times: user 8.65 s, sys: 3.12 ms, total: 8.65 s\n",
      "Wall time: 8.65 s\n",
      "CPU times: user 2.23 s, sys: 0 ns, total: 2.23 s\n",
      "Wall time: 2.23 s\n"
     ]
    }
   ],
   "source": [
    "%time save_dataset(X_train, y_train, 'data/train_stopwords.tsv', en_words, en_stopwords)\n",
    "%time save_dataset(X_test, y_test, 'data/test_stopwords.tsv', en_words, en_stopwords)"
   ]
  },
  {
   "cell_type": "code",
   "execution_count": 17,
   "metadata": {},
   "outputs": [],
   "source": [
    "from seq2seq.dataset import SourceField, TargetField\n",
    "import torchtext\n",
    "\n",
    "def load_dataset(path):\n",
    "    src = SourceField()\n",
    "    tgt = TargetField()\n",
    "    max_len = 100\n",
    "    def len_filter(example):\n",
    "        return len(example.src) <= max_len and len(example.tgt) <= max_len\n",
    "    dataset = torchtext.data.TabularDataset(\n",
    "        path=path, format='tsv',\n",
    "        fields=[('src', src), ('tgt', tgt)],\n",
    "        filter_pred=len_filter\n",
    "    )\n",
    "    src.build_vocab(dataset, max_size=50000)\n",
    "    tgt.build_vocab(dataset, max_size=50000)\n",
    "    return dataset, src, tgt"
   ]
  },
  {
   "cell_type": "code",
   "execution_count": 18,
   "metadata": {},
   "outputs": [],
   "source": [
    "train, src, tgt = load_dataset('data/train_stopwords.tsv')\n",
    "input_vocab = src.vocab\n",
    "output_vocab = tgt.vocab"
   ]
  },
  {
   "cell_type": "code",
   "execution_count": 19,
   "metadata": {},
   "outputs": [
    {
     "data": {
      "text/plain": [
       "7995"
      ]
     },
     "execution_count": 19,
     "metadata": {},
     "output_type": "execute_result"
    }
   ],
   "source": [
    "len(output_vocab)"
   ]
  },
  {
   "cell_type": "code",
   "execution_count": 20,
   "metadata": {},
   "outputs": [],
   "source": [
    "import seq2seq\n",
    "from seq2seq import *"
   ]
  },
  {
   "cell_type": "code",
   "execution_count": 24,
   "metadata": {},
   "outputs": [],
   "source": [
    "from seq2seq.models import EncoderRNN, DecoderRNN, Seq2seq\n",
    "\n",
    "bidirectional = False\n",
    "hidden_size = 128\n",
    "\n",
    "encoder = EncoderRNN(vocab_size=len(src.vocab), max_len=100, hidden_size=hidden_size, rnn_cell='gru', bidirectional=bidirectional, n_layers=1)\n",
    "decoder = DecoderRNN(vocab_size=len(tgt.vocab), max_len=100, hidden_size=hidden_size * 2 if bidirectional else hidden_size, \n",
    "                                    rnn_cell='gru', bidirectional=bidirectional, n_layers=1, use_attention=False,\n",
    "                                    eos_id=tgt.eos_id, sos_id=tgt.sos_id)\n",
    "model = Seq2seq(encoder, decoder)\n",
    "model.cuda()\n",
    "for param in model.parameters():\n",
    "    param.data.uniform_(-0.08, 0.08)"
   ]
  },
  {
   "cell_type": "code",
   "execution_count": 29,
   "metadata": {},
   "outputs": [],
   "source": [
    "from seq2seq.loss import NLLLoss\n",
    "from seq2seq.trainer import SupervisedTrainer\n",
    "\n",
    "loss = NLLLoss()\n",
    "loss.cuda()\n",
    "t = SupervisedTrainer(loss=loss, batch_size=64,\n",
    "                          checkpoint_every=10000,\n",
    "                          print_every=10000, expt_dir='seq2seq')\n",
    "optimizer = None"
   ]
  },
  {
   "cell_type": "code",
   "execution_count": 30,
   "metadata": {},
   "outputs": [
    {
     "name": "stderr",
     "output_type": "stream",
     "text": [
      "/home/femoiseev/miniconda3/envs/pytorch/lib/python3.6/site-packages/seq2seq-0.1.5-py3.6.egg/seq2seq/models/DecoderRNN.py:105: UserWarning: Implicit dimension choice for log_softmax has been deprecated. Change the call to include dim=X as an argument.\n",
      "  predicted_softmax = function(self.out(output.contiguous().view(-1, self.hidden_size))).view(batch_size, output_size, -1)\n"
     ]
    },
    {
     "name": "stdout",
     "output_type": "stream",
     "text": [
      "CPU times: user 3min 40s, sys: 54.2 s, total: 4min 35s\n",
      "Wall time: 4min 35s\n"
     ]
    }
   ],
   "source": [
    "%time model = t.train(model, train, num_epochs=50, optimizer=optimizer, teacher_forcing_ratio=0.5, resume=False)"
   ]
  },
  {
   "cell_type": "code",
   "execution_count": 35,
   "metadata": {},
   "outputs": [],
   "source": [
    "predictor = seq2seq.evaluator.Predictor(model, input_vocab, output_vocab)"
   ]
  },
  {
   "cell_type": "code",
   "execution_count": 36,
   "metadata": {},
   "outputs": [
    {
     "data": {
      "text/html": [
       "<div>\n",
       "<style scoped>\n",
       "    .dataframe tbody tr th:only-of-type {\n",
       "        vertical-align: middle;\n",
       "    }\n",
       "\n",
       "    .dataframe tbody tr th {\n",
       "        vertical-align: top;\n",
       "    }\n",
       "\n",
       "    .dataframe thead th {\n",
       "        text-align: right;\n",
       "    }\n",
       "</style>\n",
       "<table border=\"1\" class=\"dataframe\">\n",
       "  <thead>\n",
       "    <tr style=\"text-align: right;\">\n",
       "      <th></th>\n",
       "      <th>0</th>\n",
       "      <th>1</th>\n",
       "    </tr>\n",
       "  </thead>\n",
       "  <tbody>\n",
       "    <tr>\n",
       "      <th>0</th>\n",
       "      <td>little wonder bill eileen three grown lonely w...</td>\n",
       "      <td>wonderland</td>\n",
       "    </tr>\n",
       "    <tr>\n",
       "      <th>1</th>\n",
       "      <td>rare remarkable theatrical experience controve...</td>\n",
       "      <td>mother</td>\n",
       "    </tr>\n",
       "    <tr>\n",
       "      <th>3</th>\n",
       "      <td>storm forming work robert watt pioneer radar t...</td>\n",
       "      <td>sky</td>\n",
       "    </tr>\n",
       "    <tr>\n",
       "      <th>7</th>\n",
       "      <td>buster around blacksmith shop smithy get fight...</td>\n",
       "      <td>blacksmith</td>\n",
       "    </tr>\n",
       "    <tr>\n",
       "      <th>8</th>\n",
       "      <td>man away join paramilitary group teens fightin...</td>\n",
       "      <td>mercury</td>\n",
       "    </tr>\n",
       "  </tbody>\n",
       "</table>\n",
       "</div>"
      ],
      "text/plain": [
       "                                                   0           1\n",
       "0  little wonder bill eileen three grown lonely w...  wonderland\n",
       "1  rare remarkable theatrical experience controve...      mother\n",
       "3  storm forming work robert watt pioneer radar t...         sky\n",
       "7  buster around blacksmith shop smithy get fight...  blacksmith\n",
       "8  man away join paramilitary group teens fightin...     mercury"
      ]
     },
     "execution_count": 36,
     "metadata": {},
     "output_type": "execute_result"
    }
   ],
   "source": [
    "test = pd.read_csv('data/test_stopwords.tsv', header=None, delimiter='\\t').dropna()\n",
    "test.head()"
   ]
  },
  {
   "cell_type": "code",
   "execution_count": 37,
   "metadata": {},
   "outputs": [],
   "source": [
    "X_test = [x.strip().split() for x in test[0]]\n",
    "y_test = test[1].values"
   ]
  },
  {
   "cell_type": "code",
   "execution_count": 38,
   "metadata": {},
   "outputs": [
    {
     "name": "stderr",
     "output_type": "stream",
     "text": [
      "/home/femoiseev/miniconda3/envs/pytorch/lib/python3.6/site-packages/seq2seq-0.1.5-py3.6.egg/seq2seq/models/DecoderRNN.py:105: UserWarning: Implicit dimension choice for log_softmax has been deprecated. Change the call to include dim=X as an argument.\n",
      "  predicted_softmax = function(self.out(output.contiguous().view(-1, self.hidden_size))).view(batch_size, output_size, -1)\n"
     ]
    },
    {
     "data": {
      "text/plain": [
       "['piranha', '<eos>']"
      ]
     },
     "execution_count": 38,
     "metadata": {},
     "output_type": "execute_result"
    }
   ],
   "source": [
    "predictor.predict(X_test[550])"
   ]
  },
  {
   "cell_type": "code",
   "execution_count": 39,
   "metadata": {},
   "outputs": [
    {
     "data": {
      "text/plain": [
       "'forget paris'"
      ]
     },
     "execution_count": 39,
     "metadata": {},
     "output_type": "execute_result"
    }
   ],
   "source": [
    "y_test[550]"
   ]
  },
  {
   "cell_type": "code",
   "execution_count": 40,
   "metadata": {},
   "outputs": [
    {
     "name": "stderr",
     "output_type": "stream",
     "text": [
      "  0%|          | 0/5588 [00:00<?, ?it/s]/home/femoiseev/miniconda3/envs/pytorch/lib/python3.6/site-packages/seq2seq-0.1.5-py3.6.egg/seq2seq/models/DecoderRNN.py:105: UserWarning: Implicit dimension choice for log_softmax has been deprecated. Change the call to include dim=X as an argument.\n",
      "  predicted_softmax = function(self.out(output.contiguous().view(-1, self.hidden_size))).view(batch_size, output_size, -1)\n",
      "100%|██████████| 5588/5588 [06:20<00:00, 14.70it/s]\n"
     ]
    }
   ],
   "source": [
    "import tqdm\n",
    "\n",
    "preds = []\n",
    "for x in tqdm.tqdm(X_test):\n",
    "    preds.append(' '.join(predictor.predict(x)[:-1]))"
   ]
  },
  {
   "cell_type": "code",
   "execution_count": 46,
   "metadata": {},
   "outputs": [
    {
     "data": {
      "text/plain": [
       "0.7175242919855807"
      ]
     },
     "execution_count": 46,
     "metadata": {},
     "output_type": "execute_result"
    }
   ],
   "source": [
    "metric(y_test, preds, words=en_words)"
   ]
  },
  {
   "cell_type": "code",
   "execution_count": 47,
   "metadata": {},
   "outputs": [
    {
     "name": "stdout",
     "output_type": "stream",
     "text": [
      "Examples of work:\n",
      "\n",
      "Overview:\n",
      "['little', 'wonder', 'bill', 'eileen', 'three', 'grown', 'lonely', 'waitress', 'personal', 'looking', 'love', 'debbie', 'single', 'men', 'hair', 'salon', 'son', 'part', 'weekend', 'ex', 'man', 'temper', 'molly', 'first', 'baby', 'father', 'acts', 'responsibility', 'much']\n",
      "\n",
      "True title: wonderland\n",
      "\n",
      "Predicted title: men men\n",
      "\n",
      "Overview:\n",
      "['rare', 'remarkable', 'theatrical', 'experience', 'controversial', 'provocative', 'shocking', 'two', 'academy', 'make', 'play', 'motion', 'picture', 'event', 'year', 'would', 'someone', 'sat', 'one', 'night', 'calmly', 'told', 'going', 'end', 'life', 'morning']\n",
      "\n",
      "True title: sky\n",
      "\n",
      "Predicted title: soul\n",
      "\n",
      "Overview:\n",
      "['storm', 'forming', 'work', 'robert', 'watt', 'pioneer', 'radar', 'team', 'eccentric', 'yet', 'brilliant', 'struggle', 'turn', 'concept', 'radar', 'workable', 'reality', 'tiny', 'budget', 'seemingly', 'insurmountable', 'technical', 'even', 'spy', 'camp', 'watt', 'also', 'deal', 'marital', 'dream', 'watt', 'team', 'world', 'first', 'radar', 'system', 'along', 'south', 'east', 'coast', 'system', 'proved', 'pivotal', 'winning', 'battle', 'britain']\n",
      "\n",
      "True title: blacksmith\n",
      "\n",
      "Predicted title: days\n",
      "\n",
      "Overview:\n",
      "['buster', 'around', 'blacksmith', 'shop', 'smithy', 'get', 'fight', 'smithy', 'jail', 'buster', 'several', 'fixing', 'car', 'next']\n",
      "\n",
      "True title: mercury\n",
      "\n",
      "Predicted title: barbary\n",
      "\n",
      "Overview:\n",
      "['man', 'away', 'join', 'paramilitary', 'group', 'teens', 'fighting', 'drug', 'group', 'motive']\n",
      "\n",
      "True title: raven\n",
      "\n",
      "Predicted title: corn range\n",
      "\n",
      "Overview:\n",
      "['account', 'last', 'days', 'edgar', 'allan', 'poe', 'life', 'poet', 'pursuit', 'serial', 'killer', 'whose', 'mirror', 'writer']\n",
      "\n",
      "True title: witch hunt\n",
      "\n",
      "Predicted title: stop curtain\n",
      "\n",
      "Overview:\n",
      "['executive', 'producer', 'sean', 'witch', 'hunt', 'gripping', 'indictment', 'american', 'justice', 'system', 'told', 'lens', 'one', 'small', 'town', 'california', 'tough', 'crime', 'district', 'attorney', 'office', 'tenure', 'innocent', 'working', 'class', 'went', 'prison', 'remains', 'office', 'today', 'story', 'micro', 'level', 'us', 'experienced', 'last', 'eight', 'power', 'exist', 'without', 'oversight', 'civil', 'jeopardy']\n",
      "\n",
      "True title: snakehead terror\n",
      "\n",
      "Predicted title: stormy ball\n",
      "\n",
      "Overview:\n",
      "['small', 'town', 'desperate', 'recover', 'hard', 'economic', 'times', 'threat', 'voracious', 'snakehead', 'fish', 'mutate', 'survive', 'previous', 'lake', 'chemical', 'fish', 'transform', 'human', 'growth', 'local', 'lake', 'reviving', 'local', 'fishing', 'industry', 'thriving', 'snakehead', 'fish', 'grow', 'monstrous', 'devouring', 'everything', 'within', 'reach', 'capable', 'moving', 'eating', 'land', 'forced', 'leave', 'barren', 'lake', 'desperate', 'search', 'food', 'animal', 'vegetable', 'human']\n",
      "\n",
      "True title: temple\n",
      "\n",
      "Predicted title: testament youth\n",
      "\n",
      "Overview:\n",
      "['studio', 'japan', 'successful', 'animation', 'studio', 'spirited', 'away', 'howl', 'moving', 'castle', 'bonanza', 'generously', 'clips', 'arc', 'rebellion', 'working', 'present', 'powerhouse', 'position', 'complete', 'public', 'fun', 'park', 'illuminating', 'teasingly', 'confined', 'pic', 'finale', 'french', 'comic', 'artist', 'jean', 'meeting', 'wizened', 'european', 'whose', 'imprint', 'blade', 'runner', 'fifth', 'element', 'apparently', 'relaxed', 'nipponese', 'interesting', 'contrast', 'special', 'interest', 'impeccable']\n",
      "\n",
      "True title: death china\n",
      "\n",
      "Predicted title: fool\n",
      "\n",
      "Overview:\n",
      "['china', 'world', 'trade', 'organization', 'strong', 'support', 'democratic', 'president', 'republican', 'congress', 'ink', 'dry', 'free', 'trade', 'agreement', 'china', 'flooding', 'illegally', 'big', 'multinational', 'heavily', 'agreement', 'rapidly', 'accelerated', 'shoring', 'american', 'china', 'today', 'result', 'biggest', 'shell', 'game', 'american', 'history', 'china', 'stolen', 'millions', 'corporate', 'soaring', 'owe', 'trillion', 'world', 'totalitarian', 'nation', 'film', 'best', 'program', 'america', 'trade', 'reform', 'china']\n",
      "\n",
      "True title: second command\n",
      "\n",
      "Predicted title: point\n",
      "\n"
     ]
    }
   ],
   "source": [
    "print('Examples of work:')\n",
    "print()\n",
    "\n",
    "for x, y, z in list(zip(X_test, y_test, preds))[:10]:\n",
    "    print('Overview:')\n",
    "    print(x)\n",
    "    print()\n",
    "    print('True title: {}'.format(y))\n",
    "    print()\n",
    "    print('Predicted title: {}'.format(z))\n",
    "    print()"
   ]
  },
  {
   "cell_type": "markdown",
   "metadata": {},
   "source": [
    "### With attention"
   ]
  },
  {
   "cell_type": "code",
   "execution_count": 48,
   "metadata": {},
   "outputs": [],
   "source": [
    "from seq2seq.models import EncoderRNN, DecoderRNN, Seq2seq\n",
    "\n",
    "bidirectional = False\n",
    "hidden_size = 128\n",
    "\n",
    "encoder = EncoderRNN(vocab_size=len(src.vocab), max_len=100, hidden_size=hidden_size, rnn_cell='gru', bidirectional=bidirectional, n_layers=1)\n",
    "decoder = DecoderRNN(vocab_size=len(tgt.vocab), max_len=100, hidden_size=hidden_size * 2 if bidirectional else hidden_size, \n",
    "                                    rnn_cell='gru', bidirectional=bidirectional, n_layers=1, use_attention=True,\n",
    "                                    eos_id=tgt.eos_id, sos_id=tgt.sos_id)\n",
    "model = Seq2seq(encoder, decoder)\n",
    "model.cuda()\n",
    "for param in model.parameters():\n",
    "    param.data.uniform_(-0.08, 0.08)"
   ]
  },
  {
   "cell_type": "code",
   "execution_count": 49,
   "metadata": {},
   "outputs": [],
   "source": [
    "from seq2seq.loss import NLLLoss\n",
    "from seq2seq.trainer import SupervisedTrainer\n",
    "\n",
    "loss = NLLLoss()\n",
    "loss.cuda()\n",
    "t = SupervisedTrainer(loss=loss, batch_size=64,\n",
    "                          checkpoint_every=10000,\n",
    "                          print_every=10000, expt_dir='seq2seq')\n",
    "optimizer = None"
   ]
  },
  {
   "cell_type": "code",
   "execution_count": 50,
   "metadata": {},
   "outputs": [
    {
     "name": "stderr",
     "output_type": "stream",
     "text": [
      "/home/femoiseev/miniconda3/envs/pytorch/lib/python3.6/site-packages/seq2seq-0.1.5-py3.6.egg/seq2seq/models/attention.py:62: UserWarning: Implicit dimension choice for softmax has been deprecated. Change the call to include dim=X as an argument.\n",
      "/home/femoiseev/miniconda3/envs/pytorch/lib/python3.6/site-packages/seq2seq-0.1.5-py3.6.egg/seq2seq/models/DecoderRNN.py:105: UserWarning: Implicit dimension choice for log_softmax has been deprecated. Change the call to include dim=X as an argument.\n",
      "  predicted_softmax = function(self.out(output.contiguous().view(-1, self.hidden_size))).view(batch_size, output_size, -1)\n"
     ]
    },
    {
     "name": "stdout",
     "output_type": "stream",
     "text": [
      "CPU times: user 4min 13s, sys: 57.4 s, total: 5min 10s\n",
      "Wall time: 5min 11s\n"
     ]
    }
   ],
   "source": [
    "%time model = t.train(model, train, num_epochs=50, optimizer=optimizer, teacher_forcing_ratio=0.5, resume=False)"
   ]
  },
  {
   "cell_type": "code",
   "execution_count": 51,
   "metadata": {},
   "outputs": [],
   "source": [
    "predictor = seq2seq.evaluator.Predictor(model, input_vocab, output_vocab)"
   ]
  },
  {
   "cell_type": "code",
   "execution_count": 52,
   "metadata": {},
   "outputs": [
    {
     "data": {
      "text/html": [
       "<div>\n",
       "<style scoped>\n",
       "    .dataframe tbody tr th:only-of-type {\n",
       "        vertical-align: middle;\n",
       "    }\n",
       "\n",
       "    .dataframe tbody tr th {\n",
       "        vertical-align: top;\n",
       "    }\n",
       "\n",
       "    .dataframe thead th {\n",
       "        text-align: right;\n",
       "    }\n",
       "</style>\n",
       "<table border=\"1\" class=\"dataframe\">\n",
       "  <thead>\n",
       "    <tr style=\"text-align: right;\">\n",
       "      <th></th>\n",
       "      <th>0</th>\n",
       "      <th>1</th>\n",
       "    </tr>\n",
       "  </thead>\n",
       "  <tbody>\n",
       "    <tr>\n",
       "      <th>0</th>\n",
       "      <td>little wonder bill eileen three grown lonely w...</td>\n",
       "      <td>wonderland</td>\n",
       "    </tr>\n",
       "    <tr>\n",
       "      <th>1</th>\n",
       "      <td>rare remarkable theatrical experience controve...</td>\n",
       "      <td>mother</td>\n",
       "    </tr>\n",
       "    <tr>\n",
       "      <th>3</th>\n",
       "      <td>storm forming work robert watt pioneer radar t...</td>\n",
       "      <td>sky</td>\n",
       "    </tr>\n",
       "    <tr>\n",
       "      <th>7</th>\n",
       "      <td>buster around blacksmith shop smithy get fight...</td>\n",
       "      <td>blacksmith</td>\n",
       "    </tr>\n",
       "    <tr>\n",
       "      <th>8</th>\n",
       "      <td>man away join paramilitary group teens fightin...</td>\n",
       "      <td>mercury</td>\n",
       "    </tr>\n",
       "  </tbody>\n",
       "</table>\n",
       "</div>"
      ],
      "text/plain": [
       "                                                   0           1\n",
       "0  little wonder bill eileen three grown lonely w...  wonderland\n",
       "1  rare remarkable theatrical experience controve...      mother\n",
       "3  storm forming work robert watt pioneer radar t...         sky\n",
       "7  buster around blacksmith shop smithy get fight...  blacksmith\n",
       "8  man away join paramilitary group teens fightin...     mercury"
      ]
     },
     "execution_count": 52,
     "metadata": {},
     "output_type": "execute_result"
    }
   ],
   "source": [
    "test = pd.read_csv('data/test_stopwords.tsv', header=None, delimiter='\\t').dropna()\n",
    "test.head()"
   ]
  },
  {
   "cell_type": "code",
   "execution_count": 53,
   "metadata": {},
   "outputs": [],
   "source": [
    "X_test = [x.strip().split() for x in test[0]]\n",
    "y_test = test[1].values"
   ]
  },
  {
   "cell_type": "code",
   "execution_count": 54,
   "metadata": {},
   "outputs": [
    {
     "name": "stderr",
     "output_type": "stream",
     "text": [
      "/home/femoiseev/miniconda3/envs/pytorch/lib/python3.6/site-packages/seq2seq-0.1.5-py3.6.egg/seq2seq/models/attention.py:62: UserWarning: Implicit dimension choice for softmax has been deprecated. Change the call to include dim=X as an argument.\n",
      "  attn = F.softmax(attn.view(-1, input_size)).view(batch_size, -1, input_size)\n",
      "/home/femoiseev/miniconda3/envs/pytorch/lib/python3.6/site-packages/seq2seq-0.1.5-py3.6.egg/seq2seq/models/DecoderRNN.py:105: UserWarning: Implicit dimension choice for log_softmax has been deprecated. Change the call to include dim=X as an argument.\n",
      "  predicted_softmax = function(self.out(output.contiguous().view(-1, self.hidden_size))).view(batch_size, output_size, -1)\n"
     ]
    },
    {
     "data": {
      "text/plain": [
       "['halloween', '<eos>']"
      ]
     },
     "execution_count": 54,
     "metadata": {},
     "output_type": "execute_result"
    }
   ],
   "source": [
    "predictor.predict(X_test[550])"
   ]
  },
  {
   "cell_type": "code",
   "execution_count": 55,
   "metadata": {},
   "outputs": [
    {
     "data": {
      "text/plain": [
       "'forget paris'"
      ]
     },
     "execution_count": 55,
     "metadata": {},
     "output_type": "execute_result"
    }
   ],
   "source": [
    "y_test[550]"
   ]
  },
  {
   "cell_type": "code",
   "execution_count": 56,
   "metadata": {},
   "outputs": [
    {
     "name": "stderr",
     "output_type": "stream",
     "text": [
      "  0%|          | 0/5588 [00:00<?, ?it/s]/home/femoiseev/miniconda3/envs/pytorch/lib/python3.6/site-packages/seq2seq-0.1.5-py3.6.egg/seq2seq/models/attention.py:62: UserWarning: Implicit dimension choice for softmax has been deprecated. Change the call to include dim=X as an argument.\n",
      "  attn = F.softmax(attn.view(-1, input_size)).view(batch_size, -1, input_size)\n",
      "/home/femoiseev/miniconda3/envs/pytorch/lib/python3.6/site-packages/seq2seq-0.1.5-py3.6.egg/seq2seq/models/DecoderRNN.py:105: UserWarning: Implicit dimension choice for log_softmax has been deprecated. Change the call to include dim=X as an argument.\n",
      "  predicted_softmax = function(self.out(output.contiguous().view(-1, self.hidden_size))).view(batch_size, output_size, -1)\n",
      "100%|██████████| 5588/5588 [07:17<00:00, 12.76it/s]\n"
     ]
    }
   ],
   "source": [
    "import tqdm\n",
    "\n",
    "preds = []\n",
    "for x in tqdm.tqdm(X_test):\n",
    "    preds.append(' '.join(predictor.predict(x)[:-1]))"
   ]
  },
  {
   "cell_type": "code",
   "execution_count": 62,
   "metadata": {},
   "outputs": [
    {
     "data": {
      "text/plain": [
       "0.716016441544048"
      ]
     },
     "execution_count": 62,
     "metadata": {},
     "output_type": "execute_result"
    }
   ],
   "source": [
    "metric(y_test, preds, words=en_words)"
   ]
  },
  {
   "cell_type": "code",
   "execution_count": 47,
   "metadata": {},
   "outputs": [
    {
     "name": "stdout",
     "output_type": "stream",
     "text": [
      "Examples of work:\n",
      "\n",
      "Overview:\n",
      "['little', 'wonder', 'bill', 'eileen', 'three', 'grown', 'lonely', 'waitress', 'personal', 'looking', 'love', 'debbie', 'single', 'men', 'hair', 'salon', 'son', 'part', 'weekend', 'ex', 'man', 'temper', 'molly', 'first', 'baby', 'father', 'acts', 'responsibility', 'much']\n",
      "\n",
      "True title: wonderland\n",
      "\n",
      "Predicted title: men men\n",
      "\n",
      "Overview:\n",
      "['rare', 'remarkable', 'theatrical', 'experience', 'controversial', 'provocative', 'shocking', 'two', 'academy', 'make', 'play', 'motion', 'picture', 'event', 'year', 'would', 'someone', 'sat', 'one', 'night', 'calmly', 'told', 'going', 'end', 'life', 'morning']\n",
      "\n",
      "True title: sky\n",
      "\n",
      "Predicted title: soul\n",
      "\n",
      "Overview:\n",
      "['storm', 'forming', 'work', 'robert', 'watt', 'pioneer', 'radar', 'team', 'eccentric', 'yet', 'brilliant', 'struggle', 'turn', 'concept', 'radar', 'workable', 'reality', 'tiny', 'budget', 'seemingly', 'insurmountable', 'technical', 'even', 'spy', 'camp', 'watt', 'also', 'deal', 'marital', 'dream', 'watt', 'team', 'world', 'first', 'radar', 'system', 'along', 'south', 'east', 'coast', 'system', 'proved', 'pivotal', 'winning', 'battle', 'britain']\n",
      "\n",
      "True title: blacksmith\n",
      "\n",
      "Predicted title: days\n",
      "\n",
      "Overview:\n",
      "['buster', 'around', 'blacksmith', 'shop', 'smithy', 'get', 'fight', 'smithy', 'jail', 'buster', 'several', 'fixing', 'car', 'next']\n",
      "\n",
      "True title: mercury\n",
      "\n",
      "Predicted title: barbary\n",
      "\n",
      "Overview:\n",
      "['man', 'away', 'join', 'paramilitary', 'group', 'teens', 'fighting', 'drug', 'group', 'motive']\n",
      "\n",
      "True title: raven\n",
      "\n",
      "Predicted title: corn range\n",
      "\n",
      "Overview:\n",
      "['account', 'last', 'days', 'edgar', 'allan', 'poe', 'life', 'poet', 'pursuit', 'serial', 'killer', 'whose', 'mirror', 'writer']\n",
      "\n",
      "True title: witch hunt\n",
      "\n",
      "Predicted title: stop curtain\n",
      "\n",
      "Overview:\n",
      "['executive', 'producer', 'sean', 'witch', 'hunt', 'gripping', 'indictment', 'american', 'justice', 'system', 'told', 'lens', 'one', 'small', 'town', 'california', 'tough', 'crime', 'district', 'attorney', 'office', 'tenure', 'innocent', 'working', 'class', 'went', 'prison', 'remains', 'office', 'today', 'story', 'micro', 'level', 'us', 'experienced', 'last', 'eight', 'power', 'exist', 'without', 'oversight', 'civil', 'jeopardy']\n",
      "\n",
      "True title: snakehead terror\n",
      "\n",
      "Predicted title: stormy ball\n",
      "\n",
      "Overview:\n",
      "['small', 'town', 'desperate', 'recover', 'hard', 'economic', 'times', 'threat', 'voracious', 'snakehead', 'fish', 'mutate', 'survive', 'previous', 'lake', 'chemical', 'fish', 'transform', 'human', 'growth', 'local', 'lake', 'reviving', 'local', 'fishing', 'industry', 'thriving', 'snakehead', 'fish', 'grow', 'monstrous', 'devouring', 'everything', 'within', 'reach', 'capable', 'moving', 'eating', 'land', 'forced', 'leave', 'barren', 'lake', 'desperate', 'search', 'food', 'animal', 'vegetable', 'human']\n",
      "\n",
      "True title: temple\n",
      "\n",
      "Predicted title: testament youth\n",
      "\n",
      "Overview:\n",
      "['studio', 'japan', 'successful', 'animation', 'studio', 'spirited', 'away', 'howl', 'moving', 'castle', 'bonanza', 'generously', 'clips', 'arc', 'rebellion', 'working', 'present', 'powerhouse', 'position', 'complete', 'public', 'fun', 'park', 'illuminating', 'teasingly', 'confined', 'pic', 'finale', 'french', 'comic', 'artist', 'jean', 'meeting', 'wizened', 'european', 'whose', 'imprint', 'blade', 'runner', 'fifth', 'element', 'apparently', 'relaxed', 'nipponese', 'interesting', 'contrast', 'special', 'interest', 'impeccable']\n",
      "\n",
      "True title: death china\n",
      "\n",
      "Predicted title: fool\n",
      "\n",
      "Overview:\n",
      "['china', 'world', 'trade', 'organization', 'strong', 'support', 'democratic', 'president', 'republican', 'congress', 'ink', 'dry', 'free', 'trade', 'agreement', 'china', 'flooding', 'illegally', 'big', 'multinational', 'heavily', 'agreement', 'rapidly', 'accelerated', 'shoring', 'american', 'china', 'today', 'result', 'biggest', 'shell', 'game', 'american', 'history', 'china', 'stolen', 'millions', 'corporate', 'soaring', 'owe', 'trillion', 'world', 'totalitarian', 'nation', 'film', 'best', 'program', 'america', 'trade', 'reform', 'china']\n",
      "\n",
      "True title: second command\n",
      "\n",
      "Predicted title: point\n",
      "\n"
     ]
    }
   ],
   "source": [
    "print('Examples of work:')\n",
    "print()\n",
    "\n",
    "for x, y, z in list(zip(X_test, y_test, preds))[:10]:\n",
    "    print('Overview:')\n",
    "    print(x)\n",
    "    print()\n",
    "    print('True title: {}'.format(y))\n",
    "    print()\n",
    "    print('Predicted title: {}'.format(z))\n",
    "    print()"
   ]
  },
  {
   "cell_type": "markdown",
   "metadata": {},
   "source": [
    "### Pretrained embeddings"
   ]
  },
  {
   "cell_type": "code",
   "execution_count": 64,
   "metadata": {},
   "outputs": [],
   "source": [
    "from seq2seq.dataset import SourceField, TargetField\n",
    "import torchtext\n",
    "\n",
    "def load_dataset(path):\n",
    "    src = SourceField()\n",
    "    tgt = TargetField()\n",
    "    max_len = 100\n",
    "    def len_filter(example):\n",
    "        return len(example.src) <= max_len and len(example.tgt) <= max_len\n",
    "    dataset = torchtext.data.TabularDataset(\n",
    "        path=path, format='tsv',\n",
    "        fields=[('src', src), ('tgt', tgt)],\n",
    "        filter_pred=len_filter\n",
    "    )\n",
    "    src.build_vocab(dataset, max_size=50000)\n",
    "    tgt.build_vocab(dataset, max_size=50000)\n",
    "    return dataset, src, tgt"
   ]
  },
  {
   "cell_type": "code",
   "execution_count": 65,
   "metadata": {},
   "outputs": [
    {
     "name": "stderr",
     "output_type": "stream",
     "text": [
      ".vector_cache/wiki.en.vec: 6.60GB [1:06:13, 1.66MB/s]                            \n",
      "  0%|          | 0/2519371 [00:00<?, ?it/s]Skipping token 2519370 with 1-dimensional vector ['300']; likely a header\n",
      "100%|██████████| 2519371/2519371 [02:43<00:00, 15402.18it/s]\n"
     ]
    }
   ],
   "source": [
    "train, src, tgt = load_dataset('data/train_stopwords.tsv')\n",
    "src.vocab.load_vectors('fasttext.en.300d')\n",
    "input_vocab = src.vocab\n",
    "output_vocab = tgt.vocab"
   ]
  },
  {
   "cell_type": "code",
   "execution_count": 67,
   "metadata": {},
   "outputs": [
    {
     "data": {
      "text/plain": [
       "21460"
      ]
     },
     "execution_count": 67,
     "metadata": {},
     "output_type": "execute_result"
    }
   ],
   "source": [
    "len(input_vocab)"
   ]
  },
  {
   "cell_type": "code",
   "execution_count": 68,
   "metadata": {},
   "outputs": [],
   "source": [
    "from seq2seq.models import EncoderRNN, DecoderRNN, Seq2seq\n",
    "\n",
    "bidirectional = False\n",
    "hidden_size = 128\n",
    "\n",
    "encoder = EncoderRNN(vocab_size=len(src.vocab), max_len=100, hidden_size=hidden_size, rnn_cell='gru', bidirectional=bidirectional, n_layers=1)\n",
    "decoder = DecoderRNN(vocab_size=len(tgt.vocab), max_len=100, hidden_size=hidden_size * 2 if bidirectional else hidden_size, \n",
    "                                    rnn_cell='gru', bidirectional=bidirectional, n_layers=1, use_attention=False,\n",
    "                                    eos_id=tgt.eos_id, sos_id=tgt.sos_id)\n",
    "model = Seq2seq(encoder, decoder)\n",
    "model.cuda()\n",
    "for param in model.parameters():\n",
    "    param.data.uniform_(-0.08, 0.08)"
   ]
  },
  {
   "cell_type": "code",
   "execution_count": 69,
   "metadata": {},
   "outputs": [],
   "source": [
    "from seq2seq.loss import NLLLoss\n",
    "from seq2seq.trainer import SupervisedTrainer\n",
    "\n",
    "loss = NLLLoss()\n",
    "loss.cuda()\n",
    "t = SupervisedTrainer(loss=loss, batch_size=64,\n",
    "                          checkpoint_every=10000,\n",
    "                          print_every=10000, expt_dir='seq2seq')\n",
    "optimizer = None"
   ]
  },
  {
   "cell_type": "code",
   "execution_count": 70,
   "metadata": {},
   "outputs": [
    {
     "name": "stderr",
     "output_type": "stream",
     "text": [
      "/home/femoiseev/miniconda3/envs/pytorch/lib/python3.6/site-packages/seq2seq-0.1.5-py3.6.egg/seq2seq/models/DecoderRNN.py:105: UserWarning: Implicit dimension choice for log_softmax has been deprecated. Change the call to include dim=X as an argument.\n",
      "  predicted_softmax = function(self.out(output.contiguous().view(-1, self.hidden_size))).view(batch_size, output_size, -1)\n"
     ]
    },
    {
     "name": "stdout",
     "output_type": "stream",
     "text": [
      "CPU times: user 5min 55s, sys: 1min 52s, total: 7min 47s\n",
      "Wall time: 7min 50s\n"
     ]
    }
   ],
   "source": [
    "%time model = t.train(model, train, num_epochs=50, optimizer=optimizer, teacher_forcing_ratio=0.5, resume=False)"
   ]
  },
  {
   "cell_type": "code",
   "execution_count": 71,
   "metadata": {},
   "outputs": [],
   "source": [
    "predictor = seq2seq.evaluator.Predictor(model, input_vocab, output_vocab)"
   ]
  },
  {
   "cell_type": "code",
   "execution_count": 72,
   "metadata": {},
   "outputs": [
    {
     "data": {
      "text/html": [
       "<div>\n",
       "<style scoped>\n",
       "    .dataframe tbody tr th:only-of-type {\n",
       "        vertical-align: middle;\n",
       "    }\n",
       "\n",
       "    .dataframe tbody tr th {\n",
       "        vertical-align: top;\n",
       "    }\n",
       "\n",
       "    .dataframe thead th {\n",
       "        text-align: right;\n",
       "    }\n",
       "</style>\n",
       "<table border=\"1\" class=\"dataframe\">\n",
       "  <thead>\n",
       "    <tr style=\"text-align: right;\">\n",
       "      <th></th>\n",
       "      <th>0</th>\n",
       "      <th>1</th>\n",
       "    </tr>\n",
       "  </thead>\n",
       "  <tbody>\n",
       "    <tr>\n",
       "      <th>0</th>\n",
       "      <td>little wonder bill eileen three grown lonely w...</td>\n",
       "      <td>wonderland</td>\n",
       "    </tr>\n",
       "    <tr>\n",
       "      <th>1</th>\n",
       "      <td>rare remarkable theatrical experience controve...</td>\n",
       "      <td>mother</td>\n",
       "    </tr>\n",
       "    <tr>\n",
       "      <th>3</th>\n",
       "      <td>storm forming work robert watt pioneer radar t...</td>\n",
       "      <td>sky</td>\n",
       "    </tr>\n",
       "    <tr>\n",
       "      <th>7</th>\n",
       "      <td>buster around blacksmith shop smithy get fight...</td>\n",
       "      <td>blacksmith</td>\n",
       "    </tr>\n",
       "    <tr>\n",
       "      <th>8</th>\n",
       "      <td>man away join paramilitary group teens fightin...</td>\n",
       "      <td>mercury</td>\n",
       "    </tr>\n",
       "  </tbody>\n",
       "</table>\n",
       "</div>"
      ],
      "text/plain": [
       "                                                   0           1\n",
       "0  little wonder bill eileen three grown lonely w...  wonderland\n",
       "1  rare remarkable theatrical experience controve...      mother\n",
       "3  storm forming work robert watt pioneer radar t...         sky\n",
       "7  buster around blacksmith shop smithy get fight...  blacksmith\n",
       "8  man away join paramilitary group teens fightin...     mercury"
      ]
     },
     "execution_count": 72,
     "metadata": {},
     "output_type": "execute_result"
    }
   ],
   "source": [
    "test = pd.read_csv('data/test_stopwords.tsv', header=None, delimiter='\\t').dropna()\n",
    "test.head()"
   ]
  },
  {
   "cell_type": "code",
   "execution_count": 73,
   "metadata": {},
   "outputs": [],
   "source": [
    "X_test = [x.strip().split() for x in test[0]]\n",
    "y_test = test[1].values"
   ]
  },
  {
   "cell_type": "code",
   "execution_count": 74,
   "metadata": {},
   "outputs": [
    {
     "name": "stderr",
     "output_type": "stream",
     "text": [
      "/home/femoiseev/miniconda3/envs/pytorch/lib/python3.6/site-packages/seq2seq-0.1.5-py3.6.egg/seq2seq/models/DecoderRNN.py:105: UserWarning: Implicit dimension choice for log_softmax has been deprecated. Change the call to include dim=X as an argument.\n",
      "  predicted_softmax = function(self.out(output.contiguous().view(-1, self.hidden_size))).view(batch_size, output_size, -1)\n"
     ]
    },
    {
     "data": {
      "text/plain": [
       "['thief', '<eos>']"
      ]
     },
     "execution_count": 74,
     "metadata": {},
     "output_type": "execute_result"
    }
   ],
   "source": [
    "predictor.predict(X_test[550])"
   ]
  },
  {
   "cell_type": "code",
   "execution_count": 75,
   "metadata": {},
   "outputs": [
    {
     "data": {
      "text/plain": [
       "'forget paris'"
      ]
     },
     "execution_count": 75,
     "metadata": {},
     "output_type": "execute_result"
    }
   ],
   "source": [
    "y_test[550]"
   ]
  },
  {
   "cell_type": "code",
   "execution_count": 76,
   "metadata": {},
   "outputs": [
    {
     "name": "stderr",
     "output_type": "stream",
     "text": [
      "  0%|          | 0/5588 [00:00<?, ?it/s]/home/femoiseev/miniconda3/envs/pytorch/lib/python3.6/site-packages/seq2seq-0.1.5-py3.6.egg/seq2seq/models/DecoderRNN.py:105: UserWarning: Implicit dimension choice for log_softmax has been deprecated. Change the call to include dim=X as an argument.\n",
      "  predicted_softmax = function(self.out(output.contiguous().view(-1, self.hidden_size))).view(batch_size, output_size, -1)\n",
      "100%|██████████| 5588/5588 [06:37<00:00, 14.07it/s]\n"
     ]
    }
   ],
   "source": [
    "import tqdm\n",
    "\n",
    "preds = []\n",
    "for x in tqdm.tqdm(X_test):\n",
    "    preds.append(' '.join(predictor.predict(x)[:-1]))"
   ]
  },
  {
   "cell_type": "code",
   "execution_count": 82,
   "metadata": {},
   "outputs": [
    {
     "data": {
      "text/plain": [
       "0.7196469058787607"
      ]
     },
     "execution_count": 82,
     "metadata": {},
     "output_type": "execute_result"
    }
   ],
   "source": [
    "metric(y_test, preds, words=en_words)"
   ]
  },
  {
   "cell_type": "code",
   "execution_count": 83,
   "metadata": {},
   "outputs": [
    {
     "data": {
      "text/plain": [
       "['little',\n",
       " 'wonder',\n",
       " 'bill',\n",
       " 'eileen',\n",
       " 'three',\n",
       " 'grown',\n",
       " 'lonely',\n",
       " 'waitress',\n",
       " 'personal',\n",
       " 'looking',\n",
       " 'love',\n",
       " 'debbie',\n",
       " 'single',\n",
       " 'men',\n",
       " 'hair',\n",
       " 'salon',\n",
       " 'son',\n",
       " 'part',\n",
       " 'weekend',\n",
       " 'ex',\n",
       " 'man',\n",
       " 'temper',\n",
       " 'molly',\n",
       " 'first',\n",
       " 'baby',\n",
       " 'father',\n",
       " 'acts',\n",
       " 'responsibility',\n",
       " 'much']"
      ]
     },
     "execution_count": 83,
     "metadata": {},
     "output_type": "execute_result"
    }
   ],
   "source": [
    "X_test[0]"
   ]
  },
  {
   "cell_type": "code",
   "execution_count": 87,
   "metadata": {},
   "outputs": [],
   "source": [
    "from collections import Counter\n",
    "\n",
    "def dummy_predict(text):\n",
    "    cnt = Counter(text)\n",
    "    return cnt.most_common(1)[0][0]"
   ]
  },
  {
   "cell_type": "code",
   "execution_count": 90,
   "metadata": {},
   "outputs": [],
   "source": [
    "dummy_preds = [dummy_predict(x) for x in X_test]"
   ]
  },
  {
   "cell_type": "code",
   "execution_count": 91,
   "metadata": {},
   "outputs": [
    {
     "data": {
      "text/plain": [
       "0.7726990462191043"
      ]
     },
     "execution_count": 91,
     "metadata": {},
     "output_type": "execute_result"
    }
   ],
   "source": [
    "metric(y_test, dummy_preds, words=en_words)"
   ]
  },
  {
   "cell_type": "code",
   "execution_count": 47,
   "metadata": {},
   "outputs": [
    {
     "name": "stdout",
     "output_type": "stream",
     "text": [
      "Examples of work:\n",
      "\n",
      "Overview:\n",
      "['little', 'wonder', 'bill', 'eileen', 'three', 'grown', 'lonely', 'waitress', 'personal', 'looking', 'love', 'debbie', 'single', 'men', 'hair', 'salon', 'son', 'part', 'weekend', 'ex', 'man', 'temper', 'molly', 'first', 'baby', 'father', 'acts', 'responsibility', 'much']\n",
      "\n",
      "True title: wonderland\n",
      "\n",
      "Predicted title: men men\n",
      "\n",
      "Overview:\n",
      "['rare', 'remarkable', 'theatrical', 'experience', 'controversial', 'provocative', 'shocking', 'two', 'academy', 'make', 'play', 'motion', 'picture', 'event', 'year', 'would', 'someone', 'sat', 'one', 'night', 'calmly', 'told', 'going', 'end', 'life', 'morning']\n",
      "\n",
      "True title: sky\n",
      "\n",
      "Predicted title: soul\n",
      "\n",
      "Overview:\n",
      "['storm', 'forming', 'work', 'robert', 'watt', 'pioneer', 'radar', 'team', 'eccentric', 'yet', 'brilliant', 'struggle', 'turn', 'concept', 'radar', 'workable', 'reality', 'tiny', 'budget', 'seemingly', 'insurmountable', 'technical', 'even', 'spy', 'camp', 'watt', 'also', 'deal', 'marital', 'dream', 'watt', 'team', 'world', 'first', 'radar', 'system', 'along', 'south', 'east', 'coast', 'system', 'proved', 'pivotal', 'winning', 'battle', 'britain']\n",
      "\n",
      "True title: blacksmith\n",
      "\n",
      "Predicted title: days\n",
      "\n",
      "Overview:\n",
      "['buster', 'around', 'blacksmith', 'shop', 'smithy', 'get', 'fight', 'smithy', 'jail', 'buster', 'several', 'fixing', 'car', 'next']\n",
      "\n",
      "True title: mercury\n",
      "\n",
      "Predicted title: barbary\n",
      "\n",
      "Overview:\n",
      "['man', 'away', 'join', 'paramilitary', 'group', 'teens', 'fighting', 'drug', 'group', 'motive']\n",
      "\n",
      "True title: raven\n",
      "\n",
      "Predicted title: corn range\n",
      "\n",
      "Overview:\n",
      "['account', 'last', 'days', 'edgar', 'allan', 'poe', 'life', 'poet', 'pursuit', 'serial', 'killer', 'whose', 'mirror', 'writer']\n",
      "\n",
      "True title: witch hunt\n",
      "\n",
      "Predicted title: stop curtain\n",
      "\n",
      "Overview:\n",
      "['executive', 'producer', 'sean', 'witch', 'hunt', 'gripping', 'indictment', 'american', 'justice', 'system', 'told', 'lens', 'one', 'small', 'town', 'california', 'tough', 'crime', 'district', 'attorney', 'office', 'tenure', 'innocent', 'working', 'class', 'went', 'prison', 'remains', 'office', 'today', 'story', 'micro', 'level', 'us', 'experienced', 'last', 'eight', 'power', 'exist', 'without', 'oversight', 'civil', 'jeopardy']\n",
      "\n",
      "True title: snakehead terror\n",
      "\n",
      "Predicted title: stormy ball\n",
      "\n",
      "Overview:\n",
      "['small', 'town', 'desperate', 'recover', 'hard', 'economic', 'times', 'threat', 'voracious', 'snakehead', 'fish', 'mutate', 'survive', 'previous', 'lake', 'chemical', 'fish', 'transform', 'human', 'growth', 'local', 'lake', 'reviving', 'local', 'fishing', 'industry', 'thriving', 'snakehead', 'fish', 'grow', 'monstrous', 'devouring', 'everything', 'within', 'reach', 'capable', 'moving', 'eating', 'land', 'forced', 'leave', 'barren', 'lake', 'desperate', 'search', 'food', 'animal', 'vegetable', 'human']\n",
      "\n",
      "True title: temple\n",
      "\n",
      "Predicted title: testament youth\n",
      "\n",
      "Overview:\n",
      "['studio', 'japan', 'successful', 'animation', 'studio', 'spirited', 'away', 'howl', 'moving', 'castle', 'bonanza', 'generously', 'clips', 'arc', 'rebellion', 'working', 'present', 'powerhouse', 'position', 'complete', 'public', 'fun', 'park', 'illuminating', 'teasingly', 'confined', 'pic', 'finale', 'french', 'comic', 'artist', 'jean', 'meeting', 'wizened', 'european', 'whose', 'imprint', 'blade', 'runner', 'fifth', 'element', 'apparently', 'relaxed', 'nipponese', 'interesting', 'contrast', 'special', 'interest', 'impeccable']\n",
      "\n",
      "True title: death china\n",
      "\n",
      "Predicted title: fool\n",
      "\n",
      "Overview:\n",
      "['china', 'world', 'trade', 'organization', 'strong', 'support', 'democratic', 'president', 'republican', 'congress', 'ink', 'dry', 'free', 'trade', 'agreement', 'china', 'flooding', 'illegally', 'big', 'multinational', 'heavily', 'agreement', 'rapidly', 'accelerated', 'shoring', 'american', 'china', 'today', 'result', 'biggest', 'shell', 'game', 'american', 'history', 'china', 'stolen', 'millions', 'corporate', 'soaring', 'owe', 'trillion', 'world', 'totalitarian', 'nation', 'film', 'best', 'program', 'america', 'trade', 'reform', 'china']\n",
      "\n",
      "True title: second command\n",
      "\n",
      "Predicted title: point\n",
      "\n"
     ]
    }
   ],
   "source": [
    "print('Examples of work:')\n",
    "print()\n",
    "\n",
    "for x, y, z in list(zip(X_test, y_test, preds))[:10]:\n",
    "    print('Overview:')\n",
    "    print(x)\n",
    "    print()\n",
    "    print('True title: {}'.format(y))\n",
    "    print()\n",
    "    print('Predicted title: {}'.format(z))\n",
    "    print()"
   ]
  },
  {
   "cell_type": "markdown",
   "metadata": {},
   "source": [
    "### Bidirectional"
   ]
  },
  {
   "cell_type": "code",
   "execution_count": 107,
   "metadata": {},
   "outputs": [],
   "source": [
    "from seq2seq.models import EncoderRNN, DecoderRNN, Seq2seq\n",
    "\n",
    "bidirectional = True\n",
    "hidden_size = 128\n",
    "\n",
    "encoder = EncoderRNN(vocab_size=len(src.vocab), max_len=100, hidden_size=hidden_size, rnn_cell='gru', bidirectional=bidirectional, n_layers=1)\n",
    "decoder = DecoderRNN(vocab_size=len(tgt.vocab), max_len=100, hidden_size=hidden_size * 2 if bidirectional else hidden_size, \n",
    "                                    rnn_cell='gru', bidirectional=bidirectional, n_layers=1, use_attention=True,\n",
    "                                    eos_id=tgt.eos_id, sos_id=tgt.sos_id)\n",
    "model = Seq2seq(encoder, decoder)\n",
    "model.cuda()\n",
    "for param in model.parameters():\n",
    "    param.data.uniform_(-0.08, 0.08)"
   ]
  },
  {
   "cell_type": "code",
   "execution_count": 108,
   "metadata": {},
   "outputs": [],
   "source": [
    "from seq2seq.loss import NLLLoss\n",
    "from seq2seq.trainer import SupervisedTrainer\n",
    "\n",
    "loss = NLLLoss()\n",
    "loss.cuda()\n",
    "t = SupervisedTrainer(loss=loss, batch_size=64,\n",
    "                          checkpoint_every=10000,\n",
    "                          print_every=10000, expt_dir='seq2seq')\n",
    "optimizer = None"
   ]
  },
  {
   "cell_type": "code",
   "execution_count": 109,
   "metadata": {},
   "outputs": [
    {
     "name": "stderr",
     "output_type": "stream",
     "text": [
      "/home/femoiseev/miniconda3/envs/pytorch/lib/python3.6/site-packages/seq2seq-0.1.5-py3.6.egg/seq2seq/models/attention.py:62: UserWarning: Implicit dimension choice for softmax has been deprecated. Change the call to include dim=X as an argument.\n",
      "  attn = F.softmax(attn.view(-1, input_size)).view(batch_size, -1, input_size)\n",
      "/home/femoiseev/miniconda3/envs/pytorch/lib/python3.6/site-packages/seq2seq-0.1.5-py3.6.egg/seq2seq/models/DecoderRNN.py:105: UserWarning: Implicit dimension choice for log_softmax has been deprecated. Change the call to include dim=X as an argument.\n",
      "  predicted_softmax = function(self.out(output.contiguous().view(-1, self.hidden_size))).view(batch_size, output_size, -1)\n"
     ]
    },
    {
     "name": "stdout",
     "output_type": "stream",
     "text": [
      "CPU times: user 5min 36s, sys: 1min 15s, total: 6min 52s\n",
      "Wall time: 6min 51s\n"
     ]
    }
   ],
   "source": [
    "%time model = t.train(model, train, num_epochs=50, optimizer=optimizer, teacher_forcing_ratio=0.5, resume=False)"
   ]
  },
  {
   "cell_type": "code",
   "execution_count": 110,
   "metadata": {},
   "outputs": [],
   "source": [
    "predictor = seq2seq.evaluator.Predictor(model, input_vocab, output_vocab)"
   ]
  },
  {
   "cell_type": "code",
   "execution_count": 111,
   "metadata": {},
   "outputs": [
    {
     "data": {
      "text/html": [
       "<div>\n",
       "<style scoped>\n",
       "    .dataframe tbody tr th:only-of-type {\n",
       "        vertical-align: middle;\n",
       "    }\n",
       "\n",
       "    .dataframe tbody tr th {\n",
       "        vertical-align: top;\n",
       "    }\n",
       "\n",
       "    .dataframe thead th {\n",
       "        text-align: right;\n",
       "    }\n",
       "</style>\n",
       "<table border=\"1\" class=\"dataframe\">\n",
       "  <thead>\n",
       "    <tr style=\"text-align: right;\">\n",
       "      <th></th>\n",
       "      <th>0</th>\n",
       "      <th>1</th>\n",
       "    </tr>\n",
       "  </thead>\n",
       "  <tbody>\n",
       "    <tr>\n",
       "      <th>0</th>\n",
       "      <td>little wonder bill eileen three grown lonely w...</td>\n",
       "      <td>wonderland</td>\n",
       "    </tr>\n",
       "    <tr>\n",
       "      <th>1</th>\n",
       "      <td>rare remarkable theatrical experience controve...</td>\n",
       "      <td>mother</td>\n",
       "    </tr>\n",
       "    <tr>\n",
       "      <th>3</th>\n",
       "      <td>storm forming work robert watt pioneer radar t...</td>\n",
       "      <td>sky</td>\n",
       "    </tr>\n",
       "    <tr>\n",
       "      <th>7</th>\n",
       "      <td>buster around blacksmith shop smithy get fight...</td>\n",
       "      <td>blacksmith</td>\n",
       "    </tr>\n",
       "    <tr>\n",
       "      <th>8</th>\n",
       "      <td>man away join paramilitary group teens fightin...</td>\n",
       "      <td>mercury</td>\n",
       "    </tr>\n",
       "  </tbody>\n",
       "</table>\n",
       "</div>"
      ],
      "text/plain": [
       "                                                   0           1\n",
       "0  little wonder bill eileen three grown lonely w...  wonderland\n",
       "1  rare remarkable theatrical experience controve...      mother\n",
       "3  storm forming work robert watt pioneer radar t...         sky\n",
       "7  buster around blacksmith shop smithy get fight...  blacksmith\n",
       "8  man away join paramilitary group teens fightin...     mercury"
      ]
     },
     "execution_count": 111,
     "metadata": {},
     "output_type": "execute_result"
    }
   ],
   "source": [
    "test = pd.read_csv('data/test_stopwords.tsv', header=None, delimiter='\\t').dropna()\n",
    "test.head()"
   ]
  },
  {
   "cell_type": "code",
   "execution_count": 112,
   "metadata": {},
   "outputs": [],
   "source": [
    "X_test = [x.strip().split() for x in test[0]]\n",
    "y_test = test[1].values"
   ]
  },
  {
   "cell_type": "code",
   "execution_count": 113,
   "metadata": {},
   "outputs": [
    {
     "name": "stderr",
     "output_type": "stream",
     "text": [
      "/home/femoiseev/miniconda3/envs/pytorch/lib/python3.6/site-packages/seq2seq-0.1.5-py3.6.egg/seq2seq/models/attention.py:62: UserWarning: Implicit dimension choice for softmax has been deprecated. Change the call to include dim=X as an argument.\n",
      "  attn = F.softmax(attn.view(-1, input_size)).view(batch_size, -1, input_size)\n",
      "/home/femoiseev/miniconda3/envs/pytorch/lib/python3.6/site-packages/seq2seq-0.1.5-py3.6.egg/seq2seq/models/DecoderRNN.py:105: UserWarning: Implicit dimension choice for log_softmax has been deprecated. Change the call to include dim=X as an argument.\n",
      "  predicted_softmax = function(self.out(output.contiguous().view(-1, self.hidden_size))).view(batch_size, output_size, -1)\n"
     ]
    },
    {
     "data": {
      "text/plain": [
       "['actress', '<eos>']"
      ]
     },
     "execution_count": 113,
     "metadata": {},
     "output_type": "execute_result"
    }
   ],
   "source": [
    "predictor.predict(X_test[550])"
   ]
  },
  {
   "cell_type": "code",
   "execution_count": 114,
   "metadata": {},
   "outputs": [
    {
     "data": {
      "text/plain": [
       "'forget paris'"
      ]
     },
     "execution_count": 114,
     "metadata": {},
     "output_type": "execute_result"
    }
   ],
   "source": [
    "y_test[550]"
   ]
  },
  {
   "cell_type": "code",
   "execution_count": 115,
   "metadata": {},
   "outputs": [
    {
     "name": "stderr",
     "output_type": "stream",
     "text": [
      "  0%|          | 0/5588 [00:00<?, ?it/s]/home/femoiseev/miniconda3/envs/pytorch/lib/python3.6/site-packages/seq2seq-0.1.5-py3.6.egg/seq2seq/models/attention.py:62: UserWarning: Implicit dimension choice for softmax has been deprecated. Change the call to include dim=X as an argument.\n",
      "  attn = F.softmax(attn.view(-1, input_size)).view(batch_size, -1, input_size)\n",
      "/home/femoiseev/miniconda3/envs/pytorch/lib/python3.6/site-packages/seq2seq-0.1.5-py3.6.egg/seq2seq/models/DecoderRNN.py:105: UserWarning: Implicit dimension choice for log_softmax has been deprecated. Change the call to include dim=X as an argument.\n",
      "  predicted_softmax = function(self.out(output.contiguous().view(-1, self.hidden_size))).view(batch_size, output_size, -1)\n",
      "100%|██████████| 5588/5588 [07:35<00:00, 12.27it/s]\n"
     ]
    }
   ],
   "source": [
    "import tqdm\n",
    "\n",
    "preds = []\n",
    "for x in tqdm.tqdm(X_test):\n",
    "    preds.append(' '.join(predictor.predict(x)[:-1]))"
   ]
  },
  {
   "cell_type": "code",
   "execution_count": 121,
   "metadata": {},
   "outputs": [
    {
     "data": {
      "text/plain": [
       "0.7063390948060938"
      ]
     },
     "execution_count": 121,
     "metadata": {},
     "output_type": "execute_result"
    }
   ],
   "source": [
    "metric(y_test, preds, words=en_words)"
   ]
  },
  {
   "cell_type": "code",
   "execution_count": 123,
   "metadata": {},
   "outputs": [],
   "source": [
    "scores = [metric(y_test[i], preds[i], words=en_words) for i in range(len(y_test))]"
   ]
  },
  {
   "cell_type": "code",
   "execution_count": 127,
   "metadata": {},
   "outputs": [],
   "source": [
    "inds = list(np.argsort(scores))"
   ]
  },
  {
   "cell_type": "code",
   "execution_count": 131,
   "metadata": {},
   "outputs": [
    {
     "data": {
      "text/plain": [
       "0.0"
      ]
     },
     "execution_count": 131,
     "metadata": {},
     "output_type": "execute_result"
    }
   ],
   "source": [
    "scores[inds[0]]"
   ]
  },
  {
   "cell_type": "code",
   "execution_count": 148,
   "metadata": {},
   "outputs": [
    {
     "data": {
      "text/plain": [
       "('monster high city',\n",
       " 'monster',\n",
       " ['sons',\n",
       "  'international',\n",
       "  'sent',\n",
       "  'boot',\n",
       "  'camp',\n",
       "  'taught',\n",
       "  'basic',\n",
       "  'survival',\n",
       "  'teach',\n",
       "  'responsibility',\n",
       "  'taken',\n",
       "  'hostage',\n",
       "  'taken',\n",
       "  'ransom',\n",
       "  'need',\n",
       "  'utilize',\n",
       "  'every',\n",
       "  'skill',\n",
       "  'learned',\n",
       "  'survive'])"
      ]
     },
     "execution_count": 148,
     "metadata": {},
     "output_type": "execute_result"
    }
   ],
   "source": [
    "i = 130\n",
    "y_test[inds[i]], preds[inds[i]], X_test[inds[i]]"
   ]
  },
  {
   "cell_type": "code",
   "execution_count": null,
   "metadata": {},
   "outputs": [],
   "source": []
  },
  {
   "cell_type": "code",
   "execution_count": 122,
   "metadata": {},
   "outputs": [
    {
     "name": "stdout",
     "output_type": "stream",
     "text": [
      "Examples of work:\n",
      "\n",
      "Overview:\n",
      "['little', 'wonder', 'bill', 'eileen', 'three', 'grown', 'lonely', 'waitress', 'personal', 'looking', 'love', 'debbie', 'single', 'men', 'hair', 'salon', 'son', 'part', 'weekend', 'ex', 'man', 'temper', 'molly', 'first', 'baby', 'father', 'acts', 'responsibility', 'much']\n",
      "\n",
      "True title: wonderland\n",
      "\n",
      "Predicted title: hello\n",
      "\n",
      "Overview:\n",
      "['rare', 'remarkable', 'theatrical', 'experience', 'controversial', 'provocative', 'shocking', 'two', 'academy', 'make', 'play', 'motion', 'picture', 'event', 'year', 'would', 'someone', 'sat', 'one', 'night', 'calmly', 'told', 'going', 'end', 'life', 'morning']\n",
      "\n",
      "True title: mother\n",
      "\n",
      "Predicted title: jump\n",
      "\n",
      "Overview:\n",
      "['storm', 'forming', 'work', 'robert', 'watt', 'pioneer', 'radar', 'team', 'eccentric', 'yet', 'brilliant', 'struggle', 'turn', 'concept', 'radar', 'workable', 'reality', 'tiny', 'budget', 'seemingly', 'insurmountable', 'technical', 'even', 'spy', 'camp', 'watt', 'also', 'deal', 'marital', 'dream', 'watt', 'team', 'world', 'first', 'radar', 'system', 'along', 'south', 'east', 'coast', 'system', 'proved', 'pivotal', 'winning', 'battle', 'britain']\n",
      "\n",
      "True title: sky\n",
      "\n",
      "Predicted title: panic ball\n",
      "\n",
      "Overview:\n",
      "['buster', 'around', 'blacksmith', 'shop', 'smithy', 'get', 'fight', 'smithy', 'jail', 'buster', 'several', 'fixing', 'car', 'next']\n",
      "\n",
      "True title: blacksmith\n",
      "\n",
      "Predicted title: remember\n",
      "\n",
      "Overview:\n",
      "['man', 'away', 'join', 'paramilitary', 'group', 'teens', 'fighting', 'drug', 'group', 'motive']\n",
      "\n",
      "True title: mercury\n",
      "\n",
      "Predicted title: jungle nature\n",
      "\n",
      "Overview:\n",
      "['account', 'last', 'days', 'edgar', 'allan', 'poe', 'life', 'poet', 'pursuit', 'serial', 'killer', 'whose', 'mirror', 'writer']\n",
      "\n",
      "True title: raven\n",
      "\n",
      "Predicted title: across princess\n",
      "\n",
      "Overview:\n",
      "['executive', 'producer', 'sean', 'witch', 'hunt', 'gripping', 'indictment', 'american', 'justice', 'system', 'told', 'lens', 'one', 'small', 'town', 'california', 'tough', 'crime', 'district', 'attorney', 'office', 'tenure', 'innocent', 'working', 'class', 'went', 'prison', 'remains', 'office', 'today', 'story', 'micro', 'level', 'us', 'experienced', 'last', 'eight', 'power', 'exist', 'without', 'oversight', 'civil', 'jeopardy']\n",
      "\n",
      "True title: witch hunt\n",
      "\n",
      "Predicted title: human shine\n",
      "\n",
      "Overview:\n",
      "['small', 'town', 'desperate', 'recover', 'hard', 'economic', 'times', 'threat', 'voracious', 'snakehead', 'fish', 'mutate', 'survive', 'previous', 'lake', 'chemical', 'fish', 'transform', 'human', 'growth', 'local', 'lake', 'reviving', 'local', 'fishing', 'industry', 'thriving', 'snakehead', 'fish', 'grow', 'monstrous', 'devouring', 'everything', 'within', 'reach', 'capable', 'moving', 'eating', 'land', 'forced', 'leave', 'barren', 'lake', 'desperate', 'search', 'food', 'animal', 'vegetable', 'human']\n",
      "\n",
      "True title: snakehead terror\n",
      "\n",
      "Predicted title: shoot kill\n",
      "\n",
      "Overview:\n",
      "['studio', 'japan', 'successful', 'animation', 'studio', 'spirited', 'away', 'howl', 'moving', 'castle', 'bonanza', 'generously', 'clips', 'arc', 'rebellion', 'working', 'present', 'powerhouse', 'position', 'complete', 'public', 'fun', 'park', 'illuminating', 'teasingly', 'confined', 'pic', 'finale', 'french', 'comic', 'artist', 'jean', 'meeting', 'wizened', 'european', 'whose', 'imprint', 'blade', 'runner', 'fifth', 'element', 'apparently', 'relaxed', 'nipponese', 'interesting', 'contrast', 'special', 'interest', 'impeccable']\n",
      "\n",
      "True title: temple\n",
      "\n",
      "Predicted title: young\n",
      "\n",
      "Overview:\n",
      "['china', 'world', 'trade', 'organization', 'strong', 'support', 'democratic', 'president', 'republican', 'congress', 'ink', 'dry', 'free', 'trade', 'agreement', 'china', 'flooding', 'illegally', 'big', 'multinational', 'heavily', 'agreement', 'rapidly', 'accelerated', 'shoring', 'american', 'china', 'today', 'result', 'biggest', 'shell', 'game', 'american', 'history', 'china', 'stolen', 'millions', 'corporate', 'soaring', 'owe', 'trillion', 'world', 'totalitarian', 'nation', 'film', 'best', 'program', 'america', 'trade', 'reform', 'china']\n",
      "\n",
      "True title: death china\n",
      "\n",
      "Predicted title: lincoln\n",
      "\n"
     ]
    }
   ],
   "source": [
    "print('Examples of work:')\n",
    "print()\n",
    "\n",
    "for x, y, z in list(zip(X_test, y_test, preds))[:10]:\n",
    "    print('Overview:')\n",
    "    print(x)\n",
    "    print()\n",
    "    print('True title: {}'.format(y))\n",
    "    print()\n",
    "    print('Predicted title: {}'.format(z))\n",
    "    print()"
   ]
  },
  {
   "cell_type": "code",
   "execution_count": null,
   "metadata": {},
   "outputs": [],
   "source": []
  }
 ],
 "metadata": {
  "kernelspec": {
   "display_name": "Python 3",
   "language": "python",
   "name": "python3"
  },
  "language_info": {
   "codemirror_mode": {
    "name": "ipython",
    "version": 3
   },
   "file_extension": ".py",
   "mimetype": "text/x-python",
   "name": "python",
   "nbconvert_exporter": "python",
   "pygments_lexer": "ipython3",
   "version": "3.6.4"
  }
 },
 "nbformat": 4,
 "nbformat_minor": 2
}
